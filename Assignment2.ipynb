{
 "cells": [
  {
   "cell_type": "markdown",
   "metadata": {},
   "source": [
    "# Topics in Natural Language Processing 2019 - Assignment 2\n",
    "### Dolav Nitay - 203598990"
   ]
  },
  {
   "cell_type": "code",
   "execution_count": 1,
   "metadata": {},
   "outputs": [],
   "source": [
    "from collections import defaultdict\n",
    "import gzip\n",
    "import numpy as np"
   ]
  },
  {
   "cell_type": "markdown",
   "metadata": {},
   "source": [
    "## Part 1 - Word classification\n",
    "\n",
    "In this part we will try to build a classifier that would be able to classify which word is a complex one, and which isn't complex. This kind of classifier could be useful in the task of text simplification.\n",
    "\n",
    "### 1.1 Evaluation metrics"
   ]
  },
  {
   "cell_type": "markdown",
   "metadata": {},
   "source": [
    "First, we need functions to measure how good is our classifier. We'll mark the number of true positives by $t_{p}$, the number of false positives by $f_{p}$ the number of true negatives by $t_{n}$ and the number of false negative by $f_{n}$. We'll use the measures of **precision** which is $\\frac{t_{p}}{t_{p}+f_{p}}$, that is - what is the fraction of the true positives from all the data labeled as positive, **recall** which is $\\frac{t_{p}}{t_{p}+f_{n}}$, that is, what is the fraction of the true positives from all the data that should've been labeled as true. And **f score** which is $\\frac{2\\cdot precision\\cdot recall}{precision+recall}$ and combines the measures of precision recall."
   ]
  },
  {
   "cell_type": "code",
   "execution_count": 2,
   "metadata": {},
   "outputs": [],
   "source": [
    "\"\"\" Calculates the number of true positives, false positives, true negatives, and false negatives, given\n",
    "    the predicted labels and the true labels.\"\"\"\n",
    "def get_measures(y_pred, y_true):\n",
    "    tup_list = list(zip(y_pred, y_true))\n",
    "    t_p = len(list([tup for tup in tup_list if tup[0]==tup[1]==1]))\n",
    "    f_p = len(list([tup for tup in tup_list if tup[0]==1 and tup[1]==0]))\n",
    "    t_n = len(list([tup for tup in tup_list if tup[0]==tup[1]==0]))\n",
    "    f_n = len(list([tup for tup in tup_list if tup[0]==0 and tup[1]==1]))\n",
    "    return {'true_positive':t_p, 'false_positive':f_p, 'true_negative':t_n, 'false_negative':f_n}\n"
   ]
  },
  {
   "cell_type": "markdown",
   "metadata": {},
   "source": [
    "Let's test this method on some simple data and see what we get."
   ]
  },
  {
   "cell_type": "code",
   "execution_count": 3,
   "metadata": {},
   "outputs": [
    {
     "data": {
      "text/plain": [
       "{'true_positive': 2,\n",
       " 'false_positive': 2,\n",
       " 'true_negative': 0,\n",
       " 'false_negative': 0}"
      ]
     },
     "execution_count": 3,
     "metadata": {},
     "output_type": "execute_result"
    }
   ],
   "source": [
    "get_measures([1,1,1,1],[0,1,0,1])"
   ]
  },
  {
   "cell_type": "code",
   "execution_count": 4,
   "metadata": {},
   "outputs": [
    {
     "data": {
      "text/plain": [
       "{'true_positive': 2,\n",
       " 'false_positive': 0,\n",
       " 'true_negative': 0,\n",
       " 'false_negative': 2}"
      ]
     },
     "execution_count": 4,
     "metadata": {},
     "output_type": "execute_result"
    }
   ],
   "source": [
    "get_measures([1,0,1,0],[1,1,1,1])"
   ]
  },
  {
   "cell_type": "markdown",
   "metadata": {},
   "source": [
    "That looks good. Now let's use these measures and formulas mentioned before to calculate our precision, recall, and f-score. "
   ]
  },
  {
   "cell_type": "code",
   "execution_count": 5,
   "metadata": {},
   "outputs": [],
   "source": [
    "\n",
    "## Calculates the precision of the predicted labels\n",
    "def get_precision(y_pred, y_true):\n",
    "    measures = get_measures(y_pred, y_true)\n",
    "    precision = (measures['true_positive']/(measures['true_positive']+measures['false_positive']))\n",
    "    return precision\n",
    "    \n",
    "## Calculates the recall of the predicted labels\n",
    "def get_recall(y_pred, y_true):\n",
    "    measures = get_measures(y_pred, y_true)\n",
    "    recall = (measures['true_positive']/(measures['true_positive']+measures['false_negative']))\n",
    "    return recall\n",
    "\n",
    "## Calculates the f-score of the predicted labels\n",
    "def get_fscore(y_pred, y_true):\n",
    "    recall, precision = get_recall(y_pred, y_true), get_precision(y_pred, y_true)\n",
    "    fscore = (2*precision*recall)/(precision+recall)\n",
    "    return fscore"
   ]
  },
  {
   "cell_type": "markdown",
   "metadata": {},
   "source": [
    "Let's test this methods on some simple data and see how the measures of precision recall and f-score behave on it."
   ]
  },
  {
   "cell_type": "code",
   "execution_count": 6,
   "metadata": {},
   "outputs": [
    {
     "data": {
      "text/plain": [
       "1.0"
      ]
     },
     "execution_count": 6,
     "metadata": {},
     "output_type": "execute_result"
    }
   ],
   "source": [
    "get_precision([1,0,1,0],[1,1,1,1])"
   ]
  },
  {
   "cell_type": "markdown",
   "metadata": {},
   "source": [
    "Since all our data was labeled as positive, our precision is 1.0 as naturally, false positive isn't possible on such data, and all the data we labeled as true must be true positive.<br>\n",
    "Let's test the recall."
   ]
  },
  {
   "cell_type": "code",
   "execution_count": 7,
   "metadata": {},
   "outputs": [
    {
     "data": {
      "text/plain": [
       "0.5"
      ]
     },
     "execution_count": 7,
     "metadata": {},
     "output_type": "execute_result"
    }
   ],
   "source": [
    "get_recall([1,0,1,0],[1,1,1,1])"
   ]
  },
  {
   "cell_type": "markdown",
   "metadata": {},
   "source": [
    "We labeled only half of the real positive labels as true, so our recall is $\\frac{1}{2}$. Let's see what is our f-score."
   ]
  },
  {
   "cell_type": "code",
   "execution_count": 8,
   "metadata": {},
   "outputs": [
    {
     "data": {
      "text/plain": [
       "0.6666666666666666"
      ]
     },
     "execution_count": 8,
     "metadata": {},
     "output_type": "execute_result"
    }
   ],
   "source": [
    "get_fscore([1,0,1,0],[1,1,1,1])"
   ]
  },
  {
   "cell_type": "markdown",
   "metadata": {},
   "source": [
    "According to our formula we get that $fscore=\\frac{2\\cdot precision\\cdot recall}{precision+recall}=\\frac{2\\cdot 1\\cdot \\frac{1}{2}}{\\frac{3}{2}}=\\frac{1}{\\frac{3}{2}}=\\frac{2}{3}$.\n",
    "We can see that the f-score merges both measures into a single one, and that using only one them can be deceptive."
   ]
  },
  {
   "cell_type": "markdown",
   "metadata": {},
   "source": [
    "### 1.2 Baselines\n",
    "We'll implement a few baselines, so we could compare are more sophisticated classifiers to them later.\n",
    "First, we need a function that would load the training and validation words and labels. "
   ]
  },
  {
   "cell_type": "code",
   "execution_count": 9,
   "metadata": {},
   "outputs": [],
   "source": [
    "def load_file(data_file):\n",
    "    words = []\n",
    "    labels = []   \n",
    "    with open(data_file, 'rt', encoding=\"utf8\") as f:\n",
    "        i = 0\n",
    "        for line in f:\n",
    "            if i > 0:\n",
    "                line_split = line[:-1].split(\"\\t\")\n",
    "                words.append(line_split[0].lower())\n",
    "                labels.append(int(line_split[1]))\n",
    "            i += 1\n",
    "    return words, labels"
   ]
  },
  {
   "cell_type": "markdown",
   "metadata": {},
   "source": [
    "Our first baseline classifier will label all words as complex. Let's see how such classifier performs on the training and development data."
   ]
  },
  {
   "cell_type": "code",
   "execution_count": 10,
   "metadata": {},
   "outputs": [],
   "source": [
    "def all_complex(data_file):\n",
    "    words, labels = load_file(data_file)\n",
    "    tags = [1 for word in words]\n",
    "    precision, recall, fscore = get_precision(tags, labels), get_recall(tags, labels), get_fscore(tags, labels)\n",
    "    performance = [precision, recall, fscore]\n",
    "    return performance"
   ]
  },
  {
   "cell_type": "markdown",
   "metadata": {},
   "source": [
    "We need our training and development data, to test this baseline classifier on."
   ]
  },
  {
   "cell_type": "code",
   "execution_count": 11,
   "metadata": {},
   "outputs": [],
   "source": [
    "TRAINING_PATH = \"../data/complex_words_training.txt\"\n",
    "DEV_PATH = \"../data/complex_words_development.txt\""
   ]
  },
  {
   "cell_type": "code",
   "execution_count": 12,
   "metadata": {},
   "outputs": [
    {
     "name": "stdout",
     "output_type": "stream",
     "text": [
      "All complex\n",
      "-----------\n",
      "Precision:0.43275\n",
      "Recall:1.0\n",
      "f-score:0.604083057058105\n",
      "\n"
     ]
    }
   ],
   "source": [
    "def print_performance(title,performance):\n",
    "    delimeter = '-'*(len(title))\n",
    "    print(\"{t}\\n{d}\\nPrecision:{l[0]}\\nRecall:{l[1]}\\nf-score:{l[2]}\\n\".format(t=title,d=delimeter,l=performance))\n",
    "\n",
    "print_performance(\"All complex\",all_complex(TRAINING_PATH))"
   ]
  },
  {
   "cell_type": "markdown",
   "metadata": {},
   "source": [
    "The recall is 1 since we labeled all the words as complex, so we couldn't have missed any complex word. The precision is less then 0.5, which means that most of the words aren't complex, and we labeled them as complex anyway.<br>\n",
    "Let's create a more sophisticated baseline. We'll use the heuristic that a complex word is likely a long one, while a less complex word is probably a short one. Our baseline classifier will label all words longer than a give threshold $t$ as complex, and all words shorter as not complex. We'll have to find the optimal value of $t$ - the one which gives us the highest f-score, and then see what results we get with that value on the training and development data. We'll use $t\\in\\{2,3,4,...,15\\}$ and see which value is optimal from that set."
   ]
  },
  {
   "cell_type": "code",
   "execution_count": 13,
   "metadata": {},
   "outputs": [],
   "source": [
    "import matplotlib.pyplot as plt\n",
    "import matplotlib\n",
    "%matplotlib inline\n",
    "threshold_range = range(2,15)"
   ]
  },
  {
   "cell_type": "markdown",
   "metadata": {},
   "source": [
    "First, we'll create our baseline classifier, which given a threshold $t$, labels all words longer than or equal to $t$ as complex, and all words shorter than $t$ as non-complex."
   ]
  },
  {
   "cell_type": "code",
   "execution_count": 14,
   "metadata": {},
   "outputs": [],
   "source": [
    "def get_performance_threshold(words, labels, threshold):\n",
    "    tags = [1 if len(word)>=threshold else 0 for word in words]\n",
    "    precision, recall, fscore = get_precision(tags, labels), get_recall(tags, labels), get_fscore(tags, labels)\n",
    "    performance = [precision, recall, fscore]\n",
    "    return performance\n"
   ]
  },
  {
   "cell_type": "markdown",
   "metadata": {},
   "source": [
    "For visualization, we'll also plot graphs of the f score as a function of the threshold, and the dependency between precision and recall. We'll create a function for drawing these graphs."
   ]
  },
  {
   "cell_type": "code",
   "execution_count": 15,
   "metadata": {},
   "outputs": [],
   "source": [
    "import seaborn as sns\n",
    "import pandas as pd\n",
    "\n",
    "def plot_graphs(performances, t_range):\n",
    "    sns.set(style=\"darkgrid\", palette='Blues_r')\n",
    "    f_scores = [performance[0][2] for performance in performances]\n",
    "    sns.relplot(x=\"threshold\", y=\"fscore\", kind='line',\n",
    "       data=pd.DataFrame([{'threshold':t,'fscore':sc} for t,sc in zip(t_range, f_scores)]));\n",
    "    sns.relplot(x=\"Recall\", y=\"Precision\",\n",
    "           data=pd.DataFrame([{'Recall':performance[0][1],'Precision':performance[0][0]} for performance in performances]));\n"
   ]
  },
  {
   "cell_type": "markdown",
   "metadata": {},
   "source": [
    "Let's plot the graphs now for the training data."
   ]
  },
  {
   "cell_type": "code",
   "execution_count": 16,
   "metadata": {},
   "outputs": [
    {
     "data": {
      "image/png": "[encoded data removed]",
      "text/plain": [
       "<Figure size 360x360 with 1 Axes>"
      ]
     },
     "metadata": {},
     "output_type": "display_data"
    },
    {
     "data": {
      "image/png": "[encoded data removed]",
      "text/plain": [
       "<Figure size 360x360 with 1 Axes>"
      ]
     },
     "metadata": {},
     "output_type": "display_data"
    }
   ],
   "source": [
    "words,labels = load_file(TRAINING_PATH)\n",
    "performances = [(get_performance_threshold(words, labels, t),t) for t in threshold_range]\n",
    "plot_graphs(performances, threshold_range)"
   ]
  },
  {
   "cell_type": "markdown",
   "metadata": {},
   "source": [
    "And now for the development data."
   ]
  },
  {
   "cell_type": "code",
   "execution_count": 17,
   "metadata": {},
   "outputs": [
    {
     "data": {
      "image/png": "[encoded data removed]",
      "text/plain": [
       "<Figure size 360x360 with 1 Axes>"
      ]
     },
     "metadata": {},
     "output_type": "display_data"
    },
    {
     "data": {
      "image/png": "[encoded data removed]",
      "text/plain": [
       "<Figure size 360x360 with 1 Axes>"
      ]
     },
     "metadata": {},
     "output_type": "display_data"
    }
   ],
   "source": [
    "words,labels = load_file(DEV_PATH)\n",
    "performances = [(get_performance_threshold(words, labels, t),t) for t in threshold_range]\n",
    "plot_graphs(performances, threshold_range)"
   ]
  },
  {
   "cell_type": "markdown",
   "metadata": {},
   "source": [
    "We can see that both the training and the development data receives their maximum f-score for $t=8$. Also we can see that the percision and recall are inversely related.\n",
    "Now we'll create a method which given the words and the labels, will return the threshold that gives the optimal f-score."
   ]
  },
  {
   "cell_type": "code",
   "execution_count": 18,
   "metadata": {},
   "outputs": [],
   "source": [
    "def get_opt_fscore(words, labels):\n",
    "    performances = [(get_performance_threshold(words, labels, t),t) for t in threshold_range]\n",
    "    opt_val = max(performances, key=lambda a:a[0][2])[1]\n",
    "    return opt_val\n",
    "    \n",
    "def word_length_threshold(training_file, development_file):\n",
    "    words, labels = load_file(training_file)\n",
    "    opt_fscore = get_opt_fscore(words, labels)\n",
    "    tprecision, trecall, tfscore = tuple(get_performance_threshold(words, labels, opt_fscore))\n",
    "    words, labels = load_file(development_file)\n",
    "    dprecision, drecall, dfscore = tuple(get_performance_threshold(words, labels, opt_fscore))\n",
    "    training_performance = [tprecision, trecall, tfscore]\n",
    "    development_performance = [dprecision, drecall, dfscore]\n",
    "    return training_performance, development_performance"
   ]
  },
  {
   "cell_type": "markdown",
   "metadata": {},
   "source": [
    "Let's use this method to calculate the optimal threshold on the training data, and then calculate all our measures on the development data."
   ]
  },
  {
   "cell_type": "code",
   "execution_count": 19,
   "metadata": {},
   "outputs": [
    {
     "name": "stdout",
     "output_type": "stream",
     "text": [
      "Training word length threshold\n",
      "------------------------------\n",
      "Precision:0.6007401315789473\n",
      "Recall:0.8440207972270364\n",
      "f-score:0.7018976699495555\n",
      "\n",
      "Development word length threshold\n",
      "---------------------------------\n",
      "Precision:0.6053511705685619\n",
      "Recall:0.8660287081339713\n",
      "f-score:0.7125984251968505\n",
      "\n"
     ]
    }
   ],
   "source": [
    "t,d = word_length_threshold(TRAINING_PATH, DEV_PATH)\n",
    "print_performance(\"Training word length threshold\",t)\n",
    "print_performance(\"Development word length threshold\",d)"
   ]
  },
  {
   "cell_type": "markdown",
   "metadata": {},
   "source": [
    "We can see that we achieved better results on our development data than on our training data. This isn't suprising since we've noticed that both received the optimal f-score for the same value of $t$.\n",
    "\n",
    "Now we'll create a different base line, this time we'll use the frequency in which the word appeared in a file as the feature by which we decide whether a word is complex or not. If a word is frequent, we'll label it as non complex, if it's rare, we'll label it as complex. Like in the word length example, we'll test various thresholds on our training data to see which yields the best f-score.<br>\n",
    "First, we need a function to load the data of the frequencies, and load it into a python dictionary."
   ]
  },
  {
   "cell_type": "code",
   "execution_count": 20,
   "metadata": {},
   "outputs": [],
   "source": [
    "NGRAM_PATH = \"../data/ngram_counts.txt.gz\"\n",
    "def load_ngram_counts(ngram_counts_file): \n",
    "    counts = defaultdict(int) \n",
    "    with gzip.open(ngram_counts_file, 'rt', errors='ignore') as f: \n",
    "        for line in f:\n",
    "            token, count = line.strip().split('\\t') \n",
    "            if token[0].islower(): \n",
    "                counts[token] = int(count)\n",
    "    return counts\n",
    "\n",
    "counts = load_ngram_counts(NGRAM_PATH)"
   ]
  },
  {
   "cell_type": "markdown",
   "metadata": {},
   "source": [
    "Let's see what is the average frequency of a word, to determine in what range our thresholds should be."
   ]
  },
  {
   "cell_type": "code",
   "execution_count": 21,
   "metadata": {},
   "outputs": [
    {
     "data": {
      "text/plain": [
       "155953.65044112835"
      ]
     },
     "execution_count": 21,
     "metadata": {},
     "output_type": "execute_result"
    }
   ],
   "source": [
    "np.mean(np.array(list(counts.values())))"
   ]
  },
  {
   "cell_type": "markdown",
   "metadata": {},
   "source": [
    "The mean is 155953, we'll need high values of threshold. We'll test values between 50,000 and 1,000,000 with 50,000 difference between each value."
   ]
  },
  {
   "cell_type": "code",
   "execution_count": 22,
   "metadata": {},
   "outputs": [],
   "source": [
    "freq_range = range(50000,1000000, 50000)"
   ]
  },
  {
   "cell_type": "markdown",
   "metadata": {},
   "source": [
    "Now let's create the function that would label our words, and would measure our performance on a given set of labels, given a threshold."
   ]
  },
  {
   "cell_type": "code",
   "execution_count": 23,
   "metadata": {},
   "outputs": [],
   "source": [
    "def get_performance_word_threshold(words, labels, counts, threshold):\n",
    "    tags = [1 if counts[word]<=threshold else 0 for word in words]\n",
    "    precision, recall, fscore = get_precision(tags, labels), get_recall(tags, labels), get_fscore(tags, labels)\n",
    "    performance = [precision, recall, fscore]\n",
    "    return performance"
   ]
  },
  {
   "cell_type": "markdown",
   "metadata": {},
   "source": [
    "Let's see how our f-score behaves on the training data for various values of $t$."
   ]
  },
  {
   "cell_type": "code",
   "execution_count": 24,
   "metadata": {},
   "outputs": [
    {
     "data": {
      "image/png": "[encoded data removed]",
      "text/plain": [
       "<Figure size 360x360 with 1 Axes>"
      ]
     },
     "metadata": {},
     "output_type": "display_data"
    },
    {
     "data": {
      "image/png": "[encoded data removed]",
      "text/plain": [
       "<Figure size 360x360 with 1 Axes>"
      ]
     },
     "metadata": {},
     "output_type": "display_data"
    }
   ],
   "source": [
    "words,labels = load_file(TRAINING_PATH)\n",
    "performances = [(get_performance_word_threshold(words, labels, counts, t),t) for t in freq_range]\n",
    "plot_graphs(performances, freq_range)"
   ]
  },
  {
   "cell_type": "markdown",
   "metadata": {},
   "source": [
    "We can see here two interesting things. First that the f-score is still rising, and that both the precision and the recall are increasing. Most likely we've picked too low values of $t$. Let's try again, this time with $t\\in\\{50000,150000,250000,...,10000000\\}$"
   ]
  },
  {
   "cell_type": "code",
   "execution_count": 25,
   "metadata": {},
   "outputs": [
    {
     "data": {
      "image/png": "[encoded data removed]",
      "text/plain": [
       "<Figure size 360x360 with 1 Axes>"
      ]
     },
     "metadata": {},
     "output_type": "display_data"
    },
    {
     "data": {
      "image/png": "[encoded data removed]",
      "text/plain": [
       "<Figure size 360x360 with 1 Axes>"
      ]
     },
     "metadata": {},
     "output_type": "display_data"
    }
   ],
   "source": [
    "freq_range = range(50000,10000000, 100000)\n",
    "performances = [(get_performance_word_threshold(words, labels, counts, t),t) for t in freq_range]\n",
    "plot_graphs(performances, freq_range)"
   ]
  },
  {
   "cell_type": "markdown",
   "metadata": {},
   "source": [
    "The value of the fscore still increases, but less drastically, and we can see the inverse dependency between the precision and the recall. Let's try now $t\\in\\{50000,550000,1050000,...,100000000\\}$"
   ]
  },
  {
   "cell_type": "code",
   "execution_count": 26,
   "metadata": {},
   "outputs": [
    {
     "data": {
      "image/png": "[encoded data removed]",
      "text/plain": [
       "<Figure size 360x360 with 1 Axes>"
      ]
     },
     "metadata": {},
     "output_type": "display_data"
    },
    {
     "data": {
      "image/png": "[encoded data removed]",
      "text/plain": [
       "<Figure size 360x360 with 1 Axes>"
      ]
     },
     "metadata": {},
     "output_type": "display_data"
    }
   ],
   "source": [
    "freq_range = range(50000,100000000, 500000)\n",
    "performances = [(get_performance_word_threshold(words, labels, counts, t),t) for t in freq_range]\n",
    "plot_graphs(performances, freq_range)"
   ]
  },
  {
   "cell_type": "markdown",
   "metadata": {},
   "source": [
    "And for the development data:"
   ]
  },
  {
   "cell_type": "code",
   "execution_count": 29,
   "metadata": {},
   "outputs": [
    {
     "data": {
      "image/png": "[encoded data removed]",
      "text/plain": [
       "<Figure size 360x360 with 1 Axes>"
      ]
     },
     "metadata": {},
     "output_type": "display_data"
    },
    {
     "data": {
      "image/png": "[encoded data removed]",
      "text/plain": [
       "<Figure size 360x360 with 1 Axes>"
      ]
     },
     "metadata": {},
     "output_type": "display_data"
    }
   ],
   "source": [
    "words,labels = load_file(DEV_PATH)\n",
    "performances = [(get_performance_word_threshold(words, labels, counts, t),t) for t in freq_range]\n",
    "plot_graphs(performances, freq_range)"
   ]
  },
  {
   "cell_type": "markdown",
   "metadata": {},
   "source": [
    "That seems better. We can see that the fscore receives a maximal value, and the inverse dependency between the precision and the recall. Now let's create a function that would measure the optimal value of $t$, and we'll use it to test our baseline on the test and development data."
   ]
  },
  {
   "cell_type": "code",
   "execution_count": 30,
   "metadata": {},
   "outputs": [],
   "source": [
    "def get_opt_freq_fscore(words, labels, counts):\n",
    "    performances = [(get_performance_word_threshold(words, labels, counts, t),t) for t in freq_range]\n",
    "    opt_val = max(performances, key=lambda a:a[0][2])[1]\n",
    "    return opt_val\n",
    "\n",
    "def word_frequency_threshold(training_file, development_file, counts):\n",
    "    words, labels = load_file(training_file)\n",
    "    opt_val = get_opt_freq_fscore(words, labels, counts)\n",
    "    tprecision, trecall, tfscore = tuple(get_performance_word_threshold(words, labels, counts, opt_val))\n",
    "    words, labels = load_file(development_file)\n",
    "    dprecision, drecall, dfscore = tuple(get_performance_word_threshold(words, labels, counts, opt_val))\n",
    "    training_performance = [tprecision, trecall, tfscore]\n",
    "    development_performance = [dprecision, drecall, dfscore]\n",
    "    return training_performance, development_performance"
   ]
  },
  {
   "cell_type": "code",
   "execution_count": 31,
   "metadata": {},
   "outputs": [
    {
     "name": "stdout",
     "output_type": "stream",
     "text": [
      "Training word frequency threshold\n",
      "---------------------------------\n",
      "Precision:0.5660757453666398\n",
      "Recall:0.8116695551704217\n",
      "f-score:0.666983147400902\n",
      "\n",
      "Development word frequency threshold\n",
      "------------------------------------\n",
      "Precision:0.5569620253164557\n",
      "Recall:0.8421052631578947\n",
      "f-score:0.6704761904761904\n",
      "\n"
     ]
    }
   ],
   "source": [
    "t,d = word_frequency_threshold(TRAINING_PATH, DEV_PATH, counts)\n",
    "print_performance(\"Training word frequency threshold\",t)\n",
    "print_performance(\"Development word frequency threshold\",d)"
   ]
  },
  {
   "cell_type": "markdown",
   "metadata": {},
   "source": [
    "We can see that the f-score we got on the training and development data is lower than the one we got using the word length baseline. Perhaps more sophisticated classifiers, with a combination of both features, will be able to perform better."
   ]
  },
  {
   "cell_type": "markdown",
   "metadata": {},
   "source": [
    "### 1.3 Classifiers\n",
    "We will use sklearn's naive bayes classifier on the task of deciding whether a word is complex or not.\n",
    "Our features would be the the word length and it's frequency. We'll normalize our features using the mean and the standard deviation. Let's write a function for normalizing an numpy array of features."
   ]
  },
  {
   "cell_type": "code",
   "execution_count": 32,
   "metadata": {},
   "outputs": [],
   "source": [
    "from sklearn.naive_bayes import GaussianNB\n",
    "import sklearn.preprocessing\n",
    "from sklearn.pipeline import Pipeline\n",
    "from sklearn.pipeline import FeatureUnion\n",
    "from sklearn.base import TransformerMixin"
   ]
  },
  {
   "cell_type": "markdown",
   "metadata": {},
   "source": [
    "We'll need to extract our features from each word before classifying them. We'll use sklearn's pipeline, to create a pipeline which will extract the features, normalize them, and then classify our data.\n",
    "\n",
    "First, we need to implement transformers which will extract features from the given data. Let's create a LengthTransformer, which extracts the length of each word."
   ]
  },
  {
   "cell_type": "code",
   "execution_count": 33,
   "metadata": {},
   "outputs": [],
   "source": [
    "class LengthTransformer(TransformerMixin):\n",
    "\n",
    "    def transform(self, X, **transform_params):\n",
    "        lengths = [len(x) for x in X]\n",
    "        return np.array([len(x) for x in X], dtype='float64').reshape(-1,1)\n",
    "\n",
    "    def fit(self, X, y=None, **fit_params):\n",
    "        return self"
   ]
  },
  {
   "cell_type": "markdown",
   "metadata": {},
   "source": [
    "And a count transformer, which will extract the frequency of each word."
   ]
  },
  {
   "cell_type": "code",
   "execution_count": 34,
   "metadata": {},
   "outputs": [],
   "source": [
    "class CountTransformer(TransformerMixin):\n",
    "\n",
    "    def __init__(self, counts):\n",
    "        self.counts = counts\n",
    "    \n",
    "    def transform(self, X, **transform_params):\n",
    "        return np.array([self.counts[x] for x in X], dtype='float64').reshape(-1,1)\n",
    "\n",
    "    def fit(self, X, y=None, **fit_params):\n",
    "        return self"
   ]
  },
  {
   "cell_type": "markdown",
   "metadata": {},
   "source": [
    "After extracting our features, we'll have to normalize them. We'll use sklearn's normalizer to normalize our features. This normalizer will also learn the mean and std of the training data, so they could be applied later to the test data. Now, let's create the pipeline, which will extract the features, normalize them, and then classify them."
   ]
  },
  {
   "cell_type": "code",
   "execution_count": 35,
   "metadata": {},
   "outputs": [],
   "source": [
    "def get_pipeline(counts):\n",
    "    pipeline = Pipeline([\n",
    "        ('features', FeatureUnion([\n",
    "            ('length', LengthTransformer()),\n",
    "            ('count', CountTransformer(counts))\n",
    "        ])),\n",
    "        ('normalizer', sklearn.preprocessing.StandardScaler()),\n",
    "        ('classifier', GaussianNB())\n",
    "    ])\n",
    "    return pipeline"
   ]
  },
  {
   "cell_type": "markdown",
   "metadata": {},
   "source": [
    "Now we'll create the method which will test our classifier."
   ]
  },
  {
   "cell_type": "code",
   "execution_count": 36,
   "metadata": {},
   "outputs": [],
   "source": [
    "def naive_bayes(training_file, development_file, counts):\n",
    "    pipeline = get_pipeline(counts)\n",
    "    words, labels = load_file(training_file)\n",
    "    pipeline.fit(words, labels)\n",
    "    tags = pipeline.predict(words)\n",
    "    tprecision, trecall, tfscore = get_precision(tags, labels), get_recall(tags, labels), get_fscore(tags, labels)\n",
    "    words, labels = load_file(development_file)\n",
    "    tags = pipeline.predict(words)\n",
    "    dprecision, drecall, dfscore = get_precision(tags, labels), get_recall(tags, labels), get_fscore(tags, labels)\n",
    "    training_performance = [tprecision, trecall, tfscore]\n",
    "    development_performance = [dprecision, drecall, dfscore]\n",
    "    return training_performance, development_performance"
   ]
  },
  {
   "cell_type": "code",
   "execution_count": 37,
   "metadata": {},
   "outputs": [
    {
     "name": "stdout",
     "output_type": "stream",
     "text": [
      "Training word frequency threshold\n",
      "---------------------------------\n",
      "Precision:0.4950379451255108\n",
      "Recall:0.9797804737146159\n",
      "f-score:0.6577467519875897\n",
      "\n",
      "Development word frequency threshold\n",
      "------------------------------------\n",
      "Precision:0.46929316338354576\n",
      "Recall:0.9688995215311005\n",
      "f-score:0.6323185011709602\n",
      "\n"
     ]
    }
   ],
   "source": [
    "t,d = naive_bayes(TRAINING_PATH, DEV_PATH, counts)\n",
    "print_performance(\"Training word frequency threshold\",t)\n",
    "print_performance(\"Development word frequency threshold\",d)"
   ]
  },
  {
   "cell_type": "markdown",
   "metadata": {},
   "source": [
    "### 1.4 Ambiguty\n",
    "In order to find out if the complexity of words is ambigous, we have to use the context information given to us in the dataset. Let's load this data."
   ]
  },
  {
   "cell_type": "code",
   "execution_count": 38,
   "metadata": {},
   "outputs": [],
   "source": [
    "def load_file_context(data_file):\n",
    "    words = []\n",
    "    labels = []\n",
    "    contexts = []\n",
    "    with open(data_file, 'rt', encoding=\"utf8\") as f:\n",
    "        i = 0\n",
    "        for line in f:\n",
    "            if i > 0:\n",
    "                line_split = line[:-1].split(\"\\t\")\n",
    "                words.append(line_split[0].lower())\n",
    "                labels.append(int(line_split[1]))\n",
    "                contexts.append(line_split[3])\n",
    "            i += 1\n",
    "    return words, labels, contexts"
   ]
  },
  {
   "cell_type": "markdown",
   "metadata": {},
   "source": [
    "Next, we need to find out if there is some word which was labeled once as complex, and once as not complex. We can use the counter data structure to find all the words that appear more than once in our data."
   ]
  },
  {
   "cell_type": "code",
   "execution_count": 39,
   "metadata": {},
   "outputs": [],
   "source": [
    "from collections import Counter\n",
    "words, labels, contexts = load_file_context(TRAINING_PATH)\n",
    "c = Counter(words)"
   ]
  },
  {
   "cell_type": "markdown",
   "metadata": {},
   "source": [
    "Let's create a list of all the words that appear more than once in our dataset, the indices in which they occur, and each of their labels."
   ]
  },
  {
   "cell_type": "code",
   "execution_count": 40,
   "metadata": {},
   "outputs": [],
   "source": [
    "occ = [(w,[(labels[ind],ind) for ind,word in enumerate(words) if word==w])  for w,n in c.items() if n>1]"
   ]
  },
  {
   "cell_type": "markdown",
   "metadata": {},
   "source": [
    "Now, let's filter the words that were labeled the same in all their occourrences, and leave only the words that receive different labels."
   ]
  },
  {
   "cell_type": "code",
   "execution_count": 41,
   "metadata": {},
   "outputs": [],
   "source": [
    "occ = list(filter(lambda a:not all(a[1][0][0]==rest for rest in [tup[0] for tup in a[1]]),occ))"
   ]
  },
  {
   "cell_type": "markdown",
   "metadata": {},
   "source": [
    "Let's print all those words, together with their context, and see if you can find an evidence to a word whose complexity is ambigous."
   ]
  },
  {
   "cell_type": "code",
   "execution_count": 42,
   "metadata": {},
   "outputs": [
    {
     "name": "stdout",
     "output_type": "stream",
     "text": [
      "--------------------------------------------------------------------------------\n",
      "campaign\n",
      "not complex\n",
      "`` Given the way the meeting transpired , '' Ray Halbritter , an Oneida representative and leader of the `` Change the Mascot Campaign , '' said Wednesday , `` it became somewhat evident they were defending the continued use of the name .\n",
      "--------------------\n",
      "complex\n",
      "The campaign around the Maine Bear Hunting Ban Initiative , which will appear on the ballot as Question 1 , has shed light on Maine 's unique status in the wildlife world .\n",
      "--------------------\n",
      "--------------------------------------------------------------------------------\n",
      "element\n",
      "not complex\n",
      "Element 118 , for example , is the heaviest element to date , with 118 protons alongside 176 neutrons .\n",
      "--------------------\n",
      "complex\n",
      "Arturo Sanchez is in his element .\n",
      "--------------------\n",
      "--------------------------------------------------------------------------------\n",
      "inspired\n",
      "complex\n",
      "Miguel Castañeda started Tech Connect in 2009 , inspired by a similar program in San Francisco .\n",
      "--------------------\n",
      "not complex\n",
      "Inspired by their courage , demonstrators across the South adopted their `` jail not bail '' tactic and filled jail cells .\n",
      "--------------------\n",
      "--------------------------------------------------------------------------------\n",
      "district\n",
      "complex\n",
      "Now 80 and a resident of the Park La Brea complex in the Fairfax district , Prochnik uses that vat of chocolate as a centerpiece during talks about the Holocaust that he gives to schoolchildren .\n",
      "--------------------\n",
      "not complex\n",
      "Before the jurors began their deliberations , District Judge George A. O'Toole Jr. reminded them that they had to decide if Tsarnaev would spend the rest of his life in prison or if he should be executed by the federal government .\n",
      "--------------------\n",
      "--------------------------------------------------------------------------------\n",
      "commissioner\n",
      "complex\n",
      "`` As we have indicated earlier , another lawsuit of this type is not unexpected , '' NHL Deputy Commissioner Bill Daly said in an email to The Associated Press .\n",
      "--------------------\n",
      "not complex\n",
      "NFL Commissioner Roger Goodell said he issued the penalties based on `` the critical importance of protecting the integrity of the game . ''\n",
      "--------------------\n",
      "--------------------------------------------------------------------------------\n",
      "opponents\n",
      "complex\n",
      "`` I love droppin ' 'em , '' she says about opponents .\n",
      "--------------------\n",
      "not complex\n",
      "Opponents led by a group called Save Maine 's Bear Hunt say the Humane Society 's involvement shows that this is a fight being bankrolled by outside lobby groups with a broader agenda of ending sport hunting nationwide .\n",
      "--------------------\n",
      "--------------------------------------------------------------------------------\n",
      "sprouts\n",
      "not complex\n",
      "The scientists were initially skeptical about what they would find on the construction site near the new Sprouts Farmers Market less than 100 yards from busy Matlock Road .\n",
      "--------------------\n",
      "complex\n",
      "An apple can kill , a sprinkle of sprouts can send you to the hospital and your succulent , pan-seared red snapper may actually be tilefish .\n",
      "--------------------\n",
      "--------------------------------------------------------------------------------\n",
      "league\n",
      "complex\n",
      "Tom Brady has been an NFL golden boy , with movie-star looks , a supermodel wife , four Super Bowl championship rings , and a regular-guy-makes-good back story -- he went from being a sixth-round draft pick to one of the greatest quarterbacks in league history .\n",
      "--------------------\n",
      "not complex\n",
      "One piece of that market , e-sport multiplayer video-gaming competitions , is expected to bring in $ 612 million this year for games such as Dota 2 and League of Legends .\n",
      "--------------------\n",
      "--------------------------------------------------------------------------------\n",
      "hoverboard\n",
      "not complex\n",
      "`` Hoverboard is on fire , '' he says in a video taken right after he jumped off the burning piece of equipment .\n",
      "--------------------\n",
      "complex\n",
      "Timothy Cade had only owned his hoverboard for three days when it exploded beneath him .\n",
      "--------------------\n",
      "--------------------------------------------------------------------------------\n",
      "slavery\n",
      "not complex\n",
      "Slavery was a `` side issue to the Civil War , '' said Pat Hardy , a Republican board member , when the board adopted the standards in 2010 .\n",
      "--------------------\n",
      "complex\n",
      "And when it comes to the Civil War , children are supposed to learn that the conflict was caused by `` sectionalism , states ' rights and slavery '' -- written deliberately in that order to telegraph slavery 's secondary role in driving the conflict , according to some members of the State Board of Education .\n",
      "--------------------\n",
      "--------------------------------------------------------------------------------\n",
      "indy\n",
      "complex\n",
      "`` If you want to learn how to run Indy cars , you do n't start at Indy . ''\n",
      "--------------------\n",
      "not complex\n",
      "`` If you want to learn how to run Indy cars , you do n't start at Indy . ''\n",
      "--------------------\n"
     ]
    }
   ],
   "source": [
    "for word, labels in occ:\n",
    "    print('-'*80)\n",
    "    print(word)\n",
    "    for label, ind in labels:\n",
    "        print('complex' if label==1 else 'not complex')\n",
    "        print(contexts[ind])\n",
    "        print('-'*20)"
   ]
  },
  {
   "cell_type": "markdown",
   "metadata": {},
   "source": [
    "In most words there isn't a direct connection between the context and the labeling of the words, in one of them (indy) the same word received different labeld in the same context, while in most others, while the context is different, the meaning of the word is the same, and I don't see a reason for the different labeling.\n",
    "The only example I can see for ambiguty, is the \"element\" word. The word was labeled as not complex in the first sentence, when it referred to chemical element. While it was labeled as complex in the second sentence, where it appeared in the context of \"not in his element\"."
   ]
  },
  {
   "cell_type": "markdown",
   "metadata": {},
   "source": [
    "## Part 2 - Document classification\n",
    "\n",
    "### 2.1 Reuters dataset\n",
    "Let's execute the notebook out of core classification.\n",
    "\n",
    "### 2.1.1\n",
    "In order to get some statistics about the data, we first need to import it. We'll use the ReutersParser from the notebook for importing and parsing the data."
   ]
  },
  {
   "cell_type": "code",
   "execution_count": 320,
   "metadata": {},
   "outputs": [],
   "source": [
    "import os\n",
    "from glob import glob\n",
    "from sklearn.datasets import get_data_home\n",
    "from sklearn.externals.six.moves import html_parser\n",
    "from nltk import word_tokenize\n",
    "import re\n",
    "\n",
    "class ReutersParser(html_parser.HTMLParser):\n",
    "    \"\"\"Utility class to parse a SGML file and yield documents one at a time.\"\"\"\n",
    "\n",
    "    def __init__(self, encoding='latin-1'):\n",
    "        html_parser.HTMLParser.__init__(self)\n",
    "        self._reset()\n",
    "        self.encoding = encoding\n",
    "\n",
    "    def handle_starttag(self, tag, attrs):\n",
    "        method = 'start_' + tag\n",
    "        getattr(self, method, lambda x: None)(attrs)\n",
    "\n",
    "    def handle_endtag(self, tag):\n",
    "        method = 'end_' + tag\n",
    "        getattr(self, method, lambda: None)()\n",
    "\n",
    "    def _reset(self):\n",
    "        self.in_title = 0\n",
    "        self.in_body = 0\n",
    "        self.in_topics = 0\n",
    "        self.in_topic_d = 0\n",
    "        self.title = \"\"\n",
    "        self.body = \"\"\n",
    "        self.topics = []\n",
    "        self.topic_d = \"\"\n",
    "\n",
    "    def parse(self, fd):\n",
    "        self.docs = []\n",
    "        for chunk in fd:\n",
    "            self.feed(chunk.decode(self.encoding))\n",
    "            for doc in self.docs:\n",
    "                yield doc\n",
    "            self.docs = []\n",
    "        self.close()\n",
    "\n",
    "    def handle_data(self, data):\n",
    "        if self.in_body:\n",
    "            self.body += data\n",
    "        elif self.in_title:\n",
    "            self.title += data\n",
    "        elif self.in_topic_d:\n",
    "            self.topic_d += data\n",
    "\n",
    "    def start_reuters(self, attributes):\n",
    "        pass\n",
    "\n",
    "    def end_reuters(self):\n",
    "        self.body = re.sub(r'\\s+', r' ', self.body)\n",
    "        self.docs.append({'title': self.title,\n",
    "                          'body': self.body,\n",
    "                          'topics': self.topics})\n",
    "        self._reset()\n",
    "\n",
    "    def start_title(self, attributes):\n",
    "        self.in_title = 1\n",
    "\n",
    "    def end_title(self):\n",
    "        self.in_title = 0\n",
    "\n",
    "    def start_body(self, attributes):\n",
    "        self.in_body = 1\n",
    "\n",
    "    def end_body(self):\n",
    "        self.in_body = 0\n",
    "\n",
    "    def start_topics(self, attributes):\n",
    "        self.in_topics = 1\n",
    "\n",
    "    def end_topics(self):\n",
    "        self.in_topics = 0\n",
    "\n",
    "    def start_d(self, attributes):\n",
    "        self.in_topic_d = 1\n",
    "\n",
    "    def end_d(self):\n",
    "        self.in_topic_d = 0\n",
    "        self.topics.append(self.topic_d)\n",
    "        self.topic_d = \"\""
   ]
  },
  {
   "cell_type": "markdown",
   "metadata": {},
   "source": [
    "Now let's load the dataset, also, we'll count the number of words and characters in the dataset."
   ]
  },
  {
   "cell_type": "code",
   "execution_count": 331,
   "metadata": {},
   "outputs": [],
   "source": [
    "data_path = os.path.join(get_data_home(), \"reuters\")\n",
    "parser = ReutersParser()\n",
    "total_len = 0\n",
    "total_words = 0\n",
    "l = []\n",
    "for filename in glob(os.path.join(data_path, \"*.sgm\")):\n",
    "    for doc in parser.parse(open(filename, 'rb')):\n",
    "        l.append(doc)\n",
    "        total_len = total_len + len(doc['body'])\n",
    "        total_words = total_words + len(word_tokenize(doc['body']))"
   ]
  },
  {
   "cell_type": "markdown",
   "metadata": {},
   "source": [
    "We want to count how many categories there are in the dataset, and how many documents there are per category. We'll use a pandas dataframe for that. First, let's create a dataframe from the list we got earlier."
   ]
  },
  {
   "cell_type": "code",
   "execution_count": 330,
   "metadata": {},
   "outputs": [],
   "source": [
    "d = pd.DataFrame(l)"
   ]
  },
  {
   "cell_type": "markdown",
   "metadata": {},
   "source": [
    "Let's see how many documents there are in the dataset:"
   ]
  },
  {
   "cell_type": "code",
   "execution_count": 335,
   "metadata": {},
   "outputs": [
    {
     "data": {
      "text/plain": [
       "21578"
      ]
     },
     "execution_count": 335,
     "metadata": {},
     "output_type": "execute_result"
    }
   ],
   "source": [
    "len(d)"
   ]
  },
  {
   "cell_type": "markdown",
   "metadata": {},
   "source": [
    "Each document can belong to multiple categories. We want to be able to analyze each topic seperately. Let's create a new dataframe with the topics column seperated, so that each document will appear once with each of his categories."
   ]
  },
  {
   "cell_type": "code",
   "execution_count": 332,
   "metadata": {},
   "outputs": [],
   "source": [
    "p = d.topics.apply(pd.Series).merge(d, left_index=True, right_index=True).drop('topics', axis=1)\\\n",
    ".melt(id_vars=['body','title'],value_name='topic').drop('variable', axis=1).dropna()"
   ]
  },
  {
   "cell_type": "markdown",
   "metadata": {},
   "source": [
    "Now let's count how many documents there are per category, to get statistics about the distribution."
   ]
  },
  {
   "cell_type": "code",
   "execution_count": 337,
   "metadata": {},
   "outputs": [],
   "source": [
    "topics = p['topic'].value_counts()"
   ]
  },
  {
   "cell_type": "markdown",
   "metadata": {},
   "source": [
    "Let's see how many documents belong to each category:"
   ]
  },
  {
   "cell_type": "code",
   "execution_count": 339,
   "metadata": {},
   "outputs": [
    {
     "data": {
      "text/plain": [
       "usa             12542\n",
       "earn             3987\n",
       "acq              2448\n",
       "uk               1489\n",
       "japan            1138\n",
       "canada           1104\n",
       "money-fx          801\n",
       "crude             634\n",
       "grain             628\n",
       "west-germany      567\n",
       "trade             552\n",
       "interest          513\n",
       "france            469\n",
       "ec                349\n",
       "brazil            332\n",
       "wheat             306\n",
       "ship              305\n",
       "australia         270\n",
       "corn              254\n",
       "china             223\n",
       "dlr               217\n",
       "ussr              216\n",
       "switzerland       214\n",
       "belgium           214\n",
       "netherlands       196\n",
       "oilseed           192\n",
       "money-supply      190\n",
       "sugar             184\n",
       "iran              179\n",
       "italy             170\n",
       "                ...  \n",
       "rubio               1\n",
       "bhutan              1\n",
       "corn-oil            1\n",
       "ose                 1\n",
       "red-bean            1\n",
       "bahamas             1\n",
       "russell             1\n",
       "vanuatu             1\n",
       "siregar             1\n",
       "kiechle             1\n",
       "euratom             1\n",
       "citruspulp          1\n",
       "iwcc                1\n",
       "set                 1\n",
       "johnston            1\n",
       "maxwell             1\n",
       "ryzhkov             1\n",
       "andriessen          1\n",
       "lukman              1\n",
       "halikias            1\n",
       "prawiro             1\n",
       "aruba               1\n",
       "kullberg            1\n",
       "malta               1\n",
       "carlsson            1\n",
       "benin               1\n",
       "mnse                1\n",
       "pickens             1\n",
       "skr                 1\n",
       "swaziland           1\n",
       "Name: topic, Length: 445, dtype: int64"
      ]
     },
     "execution_count": 339,
     "metadata": {},
     "output_type": "execute_result"
    }
   ],
   "source": [
    "topics"
   ]
  },
  {
   "cell_type": "markdown",
   "metadata": {},
   "source": [
    "Let's get some more statistics like count, mean , standard deviation, min and max, using pandas library's describe() method."
   ]
  },
  {
   "cell_type": "code",
   "execution_count": 340,
   "metadata": {},
   "outputs": [
    {
     "data": {
      "text/plain": [
       "count      445.000000\n",
       "mean        89.871910\n",
       "std        644.656909\n",
       "min          1.000000\n",
       "25%          3.000000\n",
       "50%          8.000000\n",
       "75%         37.000000\n",
       "max      12542.000000\n",
       "Name: topic, dtype: float64"
      ]
     },
     "execution_count": 340,
     "metadata": {},
     "output_type": "execute_result"
    }
   ],
   "source": [
    "topics.describe()"
   ]
  },
  {
   "cell_type": "markdown",
   "metadata": {},
   "source": [
    "### 2.1.2\n",
    "We counted earlier the number of characters and words in the dataset. Let's print it:"
   ]
  },
  {
   "cell_type": "code",
   "execution_count": 336,
   "metadata": {},
   "outputs": [
    {
     "name": "stdout",
     "output_type": "stream",
     "text": [
      "number of characters:15504389\n",
      "number of words:2854622\n"
     ]
    }
   ],
   "source": [
    "print('number of characters:{0}\\nnumber of words:{1}'.format(total_len,total_words))"
   ]
  },
  {
   "cell_type": "markdown",
   "metadata": {},
   "source": [
    "### 2.1.3 \n",
    "The classifier that support the partial-fit method, discussed in the notebook, are those that can perform online machine learning, that is - they can learn the function $f$ without seeing the entire dataset, but only seeing parts of it sequentially. These classifiers are usefull when dealing with large datasets that cannot fit into the main memory. An example for such an algorithm is the Stochastic Gradient Descent (SGD) used in the notebook.\n",
    "\n",
    "### 2.1.4\n",
    "The hashing vectorizer using an hash function to find the index in the vector each word would map to. This is useful, since in partial-fit, we don't see the entire dataset before the learning, and hence cannot map each word in it to an integer. Also, we don't need to keep the entire vocabulary as a dictionary in memory."
   ]
  },
  {
   "cell_type": "markdown",
   "metadata": {},
   "source": [
    "### 2.2 - Spam dataset\n",
    "We'll execute the given notebook on spam data classification. For convinience, we'll copy some of it's methods to this notebook. First, let's load the data."
   ]
  },
  {
   "cell_type": "code",
   "execution_count": 44,
   "metadata": {},
   "outputs": [
    {
     "name": "stdout",
     "output_type": "stream",
     "text": [
      "Percent: [##################################################] 100%"
     ]
    }
   ],
   "source": [
    "%matplotlib inline\n",
    "import os\n",
    "import sys\n",
    "import numpy\n",
    "from pandas import DataFrame\n",
    "from sklearn.feature_extraction.text import CountVectorizer\n",
    "from sklearn.naive_bayes import MultinomialNB\n",
    "from sklearn.pipeline import Pipeline\n",
    "from sklearn.model_selection import KFold\n",
    "from sklearn.metrics import confusion_matrix, f1_score\n",
    "\n",
    "def progress(i, end_val, bar_length=50):\n",
    "    '''\n",
    "    Print a progress bar of the form: Percent: [#####      ]\n",
    "    i is the current progress value expected in a range [0..end_val]\n",
    "    bar_length is the width of the progress bar on the screen.\n",
    "    '''\n",
    "    percent = float(i) / end_val\n",
    "    hashes = '#' * int(round(percent * bar_length))\n",
    "    spaces = ' ' * (bar_length - len(hashes))\n",
    "    sys.stdout.write(\"\\rPercent: [{0}] {1}%\".format(hashes + spaces, int(round(percent * 100))))\n",
    "    sys.stdout.flush()\n",
    "\n",
    "NEWLINE = '\\n'\n",
    "\n",
    "HAM = 'ham'\n",
    "SPAM = 'spam'\n",
    "\n",
    "SOURCES = [\n",
    "    ('data/spam',        SPAM),\n",
    "    ('data/easy_ham',    HAM),\n",
    "    ('data/hard_ham',    HAM),\n",
    "    ('data/beck-s',      HAM),\n",
    "    ('data/farmer-d',    HAM),\n",
    "    ('data/kaminski-v',  HAM),\n",
    "    ('data/kitchen-l',   HAM),\n",
    "    ('data/lokay-m',     HAM),\n",
    "    ('data/williams-w3', HAM),\n",
    "    ('data/BG',          SPAM),\n",
    "    ('data/GP',          SPAM),\n",
    "    ('data/SH',          SPAM)\n",
    "]\n",
    "\n",
    "SKIP_FILES = {'cmds'}\n",
    "\n",
    "\n",
    "def read_files(path):\n",
    "    '''\n",
    "    Generator of pairs (filename, filecontent)\n",
    "    for all files below path whose name is not in SKIP_FILES.\n",
    "    The content of the file is of the form:\n",
    "        header....\n",
    "        <emptyline>\n",
    "        body...\n",
    "    This skips the headers and returns body only.\n",
    "    '''\n",
    "    for root, dir_names, file_names in os.walk(path):\n",
    "        for path in dir_names:\n",
    "            read_files(os.path.join(root, path))\n",
    "        for file_name in file_names:\n",
    "            if file_name not in SKIP_FILES:\n",
    "                file_path = os.path.join(root, file_name)\n",
    "                if os.path.isfile(file_path):\n",
    "                    past_header, lines = False, []\n",
    "                    f = open(file_path, encoding=\"latin-1\")\n",
    "                    for line in f:\n",
    "                        if past_header:\n",
    "                            lines.append(line)\n",
    "                        elif line == NEWLINE:\n",
    "                            past_header = True\n",
    "                    f.close()\n",
    "                    content = NEWLINE.join(lines)\n",
    "                    yield file_path, content\n",
    "\n",
    "\n",
    "def build_data_frame(l, path, classification):\n",
    "    rows = []\n",
    "    index = []\n",
    "    for i, (file_name, text) in enumerate(read_files(path)):\n",
    "        if ((i+l) % 100 == 0):\n",
    "            progress(i+l, 58910, 50)\n",
    "        rows.append({'text': text, 'class': classification})\n",
    "        index.append(file_name)\n",
    "   \n",
    "    data_frame = DataFrame(rows, index=index)\n",
    "    return data_frame, len(rows)\n",
    "\n",
    "def load_data():\n",
    "    data = DataFrame({'text': [], 'class': []})\n",
    "    l = 0\n",
    "    for path, classification in SOURCES:\n",
    "        data_frame, nrows = build_data_frame(l, path, classification)\n",
    "        data = data.append(data_frame, sort=False)\n",
    "        l += nrows\n",
    "    data = data.reindex(numpy.random.permutation(data.index))\n",
    "    return data\n",
    "\n",
    "data=load_data()"
   ]
  },
  {
   "cell_type": "markdown",
   "metadata": {},
   "source": [
    "We'll observe how much emails and sms messages we have in our dataset:"
   ]
  },
  {
   "cell_type": "code",
   "execution_count": 118,
   "metadata": {},
   "outputs": [
    {
     "data": {
      "text/plain": [
       "58910"
      ]
     },
     "execution_count": 118,
     "metadata": {},
     "output_type": "execute_result"
    }
   ],
   "source": [
    "len(data)"
   ]
  },
  {
   "cell_type": "markdown",
   "metadata": {},
   "source": [
    "How many of those messages are spam:"
   ]
  },
  {
   "cell_type": "code",
   "execution_count": 119,
   "metadata": {},
   "outputs": [
    {
     "data": {
      "text/plain": [
       "35371"
      ]
     },
     "execution_count": 119,
     "metadata": {},
     "output_type": "execute_result"
    }
   ],
   "source": [
    "len(data[data['class']=='spam'])"
   ]
  },
  {
   "cell_type": "markdown",
   "metadata": {},
   "source": [
    "And how many of those messages are ham:"
   ]
  },
  {
   "cell_type": "code",
   "execution_count": 120,
   "metadata": {},
   "outputs": [
    {
     "data": {
      "text/plain": [
       "23539"
      ]
     },
     "execution_count": 120,
     "metadata": {},
     "output_type": "execute_result"
    }
   ],
   "source": [
    "len(data[data['class']=='ham'])"
   ]
  },
  {
   "cell_type": "markdown",
   "metadata": {},
   "source": [
    "Now, let's create the vectorizer, and the classifier."
   ]
  },
  {
   "cell_type": "code",
   "execution_count": 47,
   "metadata": {},
   "outputs": [
    {
     "name": "stdout",
     "output_type": "stream",
     "text": [
      "Training with 4 folds\n",
      "Training for fold 0\n",
      "Testing for fold 0\n",
      "Score for 0: 0.65\n",
      "Confusion matrix for 0: \n",
      "[[9799 2531]\n",
      " [  32 2366]]\n",
      "Training for fold 1\n",
      "Testing for fold 1\n",
      "Score for 1: 0.97\n",
      "Confusion matrix for 1: \n",
      "[[20841  2698]\n",
      " [   60  5857]]\n",
      "Training for fold 2\n",
      "Testing for fold 2\n",
      "Score for 2: 0.99\n",
      "Confusion matrix for 2: \n",
      "[[20841  2698]\n",
      " [  431 20213]]\n",
      "Training for fold 3\n",
      "Testing for fold 3\n",
      "Score for 3: 0.99\n",
      "Confusion matrix for 3: \n",
      "[[20841  2698]\n",
      " [  649 34722]]\n",
      "Total emails classified: 58910\n",
      "Score: 0.9003200469327935\n",
      "Confusion matrix:\n",
      "[[20841  2698]\n",
      " [  649 34722]]\n",
      "Training with 6 folds\n",
      "Training for fold 0\n",
      "Testing for fold 0\n",
      "Score for 0: 0.74\n",
      "Confusion matrix for 0: \n",
      "[[6207 1214]\n",
      " [ 287 2111]]\n",
      "Training for fold 1\n",
      "Testing for fold 1\n"
     ]
    },
    {
     "name": "stderr",
     "output_type": "stream",
     "text": [
      "C:\\Aanaconda3\\lib\\site-packages\\sklearn\\metrics\\classification.py:1137: UndefinedMetricWarning: F-score is ill-defined and being set to 0.0 due to no true samples.\n",
      "  'recall', 'true', average, warn_for)\n"
     ]
    },
    {
     "name": "stdout",
     "output_type": "stream",
     "text": [
      "Score for 1: 0.00\n",
      "Confusion matrix for 1: \n",
      "[[15990  1250]\n",
      " [  287  2111]]\n",
      "Training for fold 2\n",
      "Testing for fold 2\n",
      "Score for 2: 0.97\n",
      "Confusion matrix for 2: \n",
      "[[22264  1275]\n",
      " [  442  5475]]\n",
      "Training for fold 3\n",
      "Testing for fold 3\n",
      "Score for 3: 0.97\n",
      "Confusion matrix for 3: \n",
      "[[22264  1275]\n",
      " [  942 14793]]\n",
      "Training for fold 4\n",
      "Testing for fold 4\n",
      "Score for 4: 1.00\n",
      "Confusion matrix for 4: \n",
      "[[22264  1275]\n",
      " [  999 24554]]\n",
      "Training for fold 5\n",
      "Testing for fold 5\n",
      "Score for 5: 0.95\n",
      "Confusion matrix for 5: \n",
      "[[22264  1275]\n",
      " [ 1942 33429]]\n",
      "Total emails classified: 58910\n",
      "Score: 0.772030247884416\n",
      "Confusion matrix:\n",
      "[[22264  1275]\n",
      " [ 1942 33429]]\n"
     ]
    }
   ],
   "source": [
    "def build_pipeline():\n",
    "    pipeline = Pipeline([\n",
    "        ('count_vectorizer',   CountVectorizer(ngram_range=(1, 2))),\n",
    "        ('classifier',         MultinomialNB())\n",
    "    ])\n",
    "    return pipeline\n",
    "\n",
    "def train(data = None, n_folds = 6):\n",
    "    if data is None:\n",
    "        print(\"Loading data...\")\n",
    "        data = load_data()\n",
    "        print(\"Data loaded\")\n",
    "    k_fold = KFold(n_splits = n_folds)\n",
    "    pipeline = build_pipeline()\n",
    "    scores = []\n",
    "    confusion = numpy.array([[0, 0], [0, 0]])\n",
    "    print(\"Training with %d folds\" % n_folds)\n",
    "    for i, (train_indices, test_indices) in enumerate(k_fold.split(data)):\n",
    "        train_text = data.iloc[train_indices]['text'].values\n",
    "        train_y = data.iloc[train_indices]['class'].values.astype(str)\n",
    "\n",
    "        test_text = data.iloc[test_indices]['text'].values\n",
    "        test_y = data.iloc[test_indices]['class'].values.astype(str)\n",
    "\n",
    "        print(\"Training for fold %d\" % i)\n",
    "        pipeline.fit(train_text, train_y)\n",
    "        print(\"Testing for fold %d\" % i)\n",
    "        predictions = pipeline.predict(test_text)\n",
    "\n",
    "        confusion += confusion_matrix(test_y, predictions)\n",
    "        score = f1_score(test_y, predictions, pos_label=SPAM)\n",
    "        scores.append(score)\n",
    "        print(\"Score for %d: %2.2f\" % (i, score))\n",
    "        print(\"Confusion matrix for %d: \" % i)\n",
    "        print(confusion)\n",
    "\n",
    "    print('Total emails classified:', len(data))\n",
    "    print('Score:', sum(scores)/len(scores))\n",
    "    print('Confusion matrix:')\n",
    "    print(confusion)\n",
    "    return pipeline\n",
    "\n",
    "from sklearn.linear_model import LogisticRegression\n",
    "\n",
    "def build_pipeline2():\n",
    "    pipeline = Pipeline([\n",
    "        ('count_vectorizer',   CountVectorizer(ngram_range=(1, 2))),\n",
    "        ('classifier',         LogisticRegression(solver='lbfgs'))\n",
    "    ])\n",
    "    return pipeline\n",
    "\n",
    "def train2(data = None, n_folds = 4):\n",
    "    if data is None:\n",
    "        print(\"Loading data...\")\n",
    "        data = load_data()\n",
    "        print(\"Data loaded\")\n",
    "    k_fold = KFold(n_splits = n_folds)\n",
    "    pipeline = build_pipeline2()\n",
    "    scores = []\n",
    "    confusion = numpy.array([[0, 0], [0, 0]])\n",
    "    print(\"Training with %d folds\" % n_folds)\n",
    "    for i, (train_indices, test_indices) in enumerate(k_fold.split(data)):\n",
    "        train_text = data.iloc[train_indices]['text'].values\n",
    "        train_y = data.iloc[train_indices]['class'].values.astype(str)\n",
    "        test_text = data.iloc[test_indices]['text'].values\n",
    "        test_y = data.iloc[test_indices]['class'].values.astype(str)\n",
    "        \n",
    "        print(\"Training for fold %d\" % i)\n",
    "        pipeline.fit(train_text, train_y)\n",
    "        print(\"Testing for fold %d\" % i)\n",
    "        predictions = pipeline.predict(test_text)\n",
    "        \n",
    "        confusion += confusion_matrix(test_y, predictions)\n",
    "        score = f1_score(test_y, predictions, pos_label=SPAM)\n",
    "        scores.append(score)\n",
    "        \n",
    "        print(\"Score for %d: %2.2f\" % (i, score))\n",
    "        print(\"Confusion matrix for %d: \" % i)\n",
    "        print(confusion)\n",
    "\n",
    "    print('Total emails classified:', len(data))\n",
    "    print('Score:', sum(scores)/len(scores))\n",
    "    print('Confusion matrix:')\n",
    "    print(confusion)\n",
    "    return pipeline\n",
    "\n",
    "pipeline = train2(data)\n",
    "pipeline_nb = train(data)"
   ]
  },
  {
   "cell_type": "markdown",
   "metadata": {},
   "source": [
    "### 2.2.1\n",
    "In order to get some statistics about our unigrams and bigrams, let's take the vectorizer from the pipeline."
   ]
  },
  {
   "cell_type": "code",
   "execution_count": 48,
   "metadata": {},
   "outputs": [],
   "source": [
    "vectorizer = pipeline.named_steps['count_vectorizer']"
   ]
  },
  {
   "cell_type": "markdown",
   "metadata": {},
   "source": [
    "In order to see how many unigrams and bigrams we have in our dataset, let's see the length of our features names vector."
   ]
  },
  {
   "cell_type": "code",
   "execution_count": 42,
   "metadata": {},
   "outputs": [
    {
     "data": {
      "text/plain": [
       "3183614"
      ]
     },
     "execution_count": 42,
     "metadata": {},
     "output_type": "execute_result"
    }
   ],
   "source": [
    "len(vectorizer.get_feature_names())"
   ]
  },
  {
   "cell_type": "markdown",
   "metadata": {},
   "source": [
    "### 2.2.2\n",
    "We want to count the most common unigrams and bigrams, let's create a sparse matrix describing our dataset."
   ]
  },
  {
   "cell_type": "code",
   "execution_count": 50,
   "metadata": {},
   "outputs": [],
   "source": [
    "sparse_matrix = vectorizer.transform(data.text)"
   ]
  },
  {
   "cell_type": "markdown",
   "metadata": {},
   "source": [
    "We'll sum each column of the matrix to get the total appearences of each unigram and bigram. And insert the data into a pandas dataframe."
   ]
  },
  {
   "cell_type": "code",
   "execution_count": 57,
   "metadata": {},
   "outputs": [],
   "source": [
    "l = sum(sparse_matrix).data\n",
    "p = pd.DataFrame(l, index=vectorizer.get_feature_names(), columns=['frequency'])"
   ]
  },
  {
   "cell_type": "markdown",
   "metadata": {},
   "source": [
    "Let's sort the dataframe to see the top appearing unigrams and bigrams."
   ]
  },
  {
   "cell_type": "code",
   "execution_count": 61,
   "metadata": {},
   "outputs": [
    {
     "data": {
      "text/html": [
       "<div>\n",
       "<style scoped>\n",
       "    .dataframe tbody tr th:only-of-type {\n",
       "        vertical-align: middle;\n",
       "    }\n",
       "\n",
       "    .dataframe tbody tr th {\n",
       "        vertical-align: top;\n",
       "    }\n",
       "\n",
       "    .dataframe thead th {\n",
       "        text-align: right;\n",
       "    }\n",
       "</style>\n",
       "<table border=\"1\" class=\"dataframe\">\n",
       "  <thead>\n",
       "    <tr style=\"text-align: right;\">\n",
       "      <th></th>\n",
       "      <th>frequency</th>\n",
       "    </tr>\n",
       "  </thead>\n",
       "  <tbody>\n",
       "    <tr>\n",
       "      <th>font</th>\n",
       "      <td>588020</td>\n",
       "    </tr>\n",
       "    <tr>\n",
       "      <th>3d</th>\n",
       "      <td>573645</td>\n",
       "    </tr>\n",
       "    <tr>\n",
       "      <th>the</th>\n",
       "      <td>523545</td>\n",
       "    </tr>\n",
       "    <tr>\n",
       "      <th>br</th>\n",
       "      <td>506598</td>\n",
       "    </tr>\n",
       "    <tr>\n",
       "      <th>td</th>\n",
       "      <td>412043</td>\n",
       "    </tr>\n",
       "    <tr>\n",
       "      <th>to</th>\n",
       "      <td>384631</td>\n",
       "    </tr>\n",
       "    <tr>\n",
       "      <th>and</th>\n",
       "      <td>304840</td>\n",
       "    </tr>\n",
       "    <tr>\n",
       "      <th>nbsp</th>\n",
       "      <td>288463</td>\n",
       "    </tr>\n",
       "    <tr>\n",
       "      <th>of</th>\n",
       "      <td>276364</td>\n",
       "    </tr>\n",
       "    <tr>\n",
       "      <th>http</th>\n",
       "      <td>240249</td>\n",
       "    </tr>\n",
       "    <tr>\n",
       "      <th>20</th>\n",
       "      <td>230871</td>\n",
       "    </tr>\n",
       "    <tr>\n",
       "      <th>size</th>\n",
       "      <td>226011</td>\n",
       "    </tr>\n",
       "    <tr>\n",
       "      <th>tr</th>\n",
       "      <td>225925</td>\n",
       "    </tr>\n",
       "    <tr>\n",
       "      <th>in</th>\n",
       "      <td>206212</td>\n",
       "    </tr>\n",
       "    <tr>\n",
       "      <th>width</th>\n",
       "      <td>197032</td>\n",
       "    </tr>\n",
       "    <tr>\n",
       "      <th>com</th>\n",
       "      <td>192779</td>\n",
       "    </tr>\n",
       "    <tr>\n",
       "      <th>nbsp nbsp</th>\n",
       "      <td>163936</td>\n",
       "    </tr>\n",
       "    <tr>\n",
       "      <th>you</th>\n",
       "      <td>159126</td>\n",
       "    </tr>\n",
       "    <tr>\n",
       "      <th>br br</th>\n",
       "      <td>156754</td>\n",
       "    </tr>\n",
       "    <tr>\n",
       "      <th>face</th>\n",
       "      <td>153450</td>\n",
       "    </tr>\n",
       "    <tr>\n",
       "      <th>for</th>\n",
       "      <td>152577</td>\n",
       "    </tr>\n",
       "    <tr>\n",
       "      <th>border</th>\n",
       "      <td>148637</td>\n",
       "    </tr>\n",
       "    <tr>\n",
       "      <th>is</th>\n",
       "      <td>147840</td>\n",
       "    </tr>\n",
       "    <tr>\n",
       "      <th>style</th>\n",
       "      <td>134521</td>\n",
       "    </tr>\n",
       "    <tr>\n",
       "      <th>this</th>\n",
       "      <td>127919</td>\n",
       "    </tr>\n",
       "    <tr>\n",
       "      <th>align</th>\n",
       "      <td>127774</td>\n",
       "    </tr>\n",
       "    <tr>\n",
       "      <th>span</th>\n",
       "      <td>125907</td>\n",
       "    </tr>\n",
       "    <tr>\n",
       "      <th>href</th>\n",
       "      <td>122468</td>\n",
       "    </tr>\n",
       "    <tr>\n",
       "      <th>height</th>\n",
       "      <td>122384</td>\n",
       "    </tr>\n",
       "    <tr>\n",
       "      <th>html</th>\n",
       "      <td>119934</td>\n",
       "    </tr>\n",
       "    <tr>\n",
       "      <th>color</th>\n",
       "      <td>119523</td>\n",
       "    </tr>\n",
       "    <tr>\n",
       "      <th>www</th>\n",
       "      <td>116191</td>\n",
       "    </tr>\n",
       "    <tr>\n",
       "      <th>font size</th>\n",
       "      <td>111788</td>\n",
       "    </tr>\n",
       "    <tr>\n",
       "      <th>td tr</th>\n",
       "      <td>108261</td>\n",
       "    </tr>\n",
       "    <tr>\n",
       "      <th>http www</th>\n",
       "      <td>105357</td>\n",
       "    </tr>\n",
       "    <tr>\n",
       "      <th>font face</th>\n",
       "      <td>104446</td>\n",
       "    </tr>\n",
       "    <tr>\n",
       "      <th>that</th>\n",
       "      <td>103891</td>\n",
       "    </tr>\n",
       "    <tr>\n",
       "      <th>on</th>\n",
       "      <td>101327</td>\n",
       "    </tr>\n",
       "    <tr>\n",
       "      <th>td td</th>\n",
       "      <td>98916</td>\n",
       "    </tr>\n",
       "    <tr>\n",
       "      <th>your</th>\n",
       "      <td>96299</td>\n",
       "    </tr>\n",
       "    <tr>\n",
       "      <th>content</th>\n",
       "      <td>92507</td>\n",
       "    </tr>\n",
       "    <tr>\n",
       "      <th>tr td</th>\n",
       "      <td>90633</td>\n",
       "    </tr>\n",
       "    <tr>\n",
       "      <th>table</th>\n",
       "      <td>87217</td>\n",
       "    </tr>\n",
       "    <tr>\n",
       "      <th>with</th>\n",
       "      <td>86005</td>\n",
       "    </tr>\n",
       "    <tr>\n",
       "      <th>be</th>\n",
       "      <td>84848</td>\n",
       "    </tr>\n",
       "    <tr>\n",
       "      <th>div</th>\n",
       "      <td>84766</td>\n",
       "    </tr>\n",
       "    <tr>\n",
       "      <th>3d http</th>\n",
       "      <td>83221</td>\n",
       "    </tr>\n",
       "    <tr>\n",
       "      <th>arial</th>\n",
       "      <td>80928</td>\n",
       "    </tr>\n",
       "    <tr>\n",
       "      <th>it</th>\n",
       "      <td>79414</td>\n",
       "    </tr>\n",
       "    <tr>\n",
       "      <th>style 3d</th>\n",
       "      <td>77299</td>\n",
       "    </tr>\n",
       "  </tbody>\n",
       "</table>\n",
       "</div>"
      ],
      "text/plain": [
       "           frequency\n",
       "font          588020\n",
       "3d            573645\n",
       "the           523545\n",
       "br            506598\n",
       "td            412043\n",
       "to            384631\n",
       "and           304840\n",
       "nbsp          288463\n",
       "of            276364\n",
       "http          240249\n",
       "20            230871\n",
       "size          226011\n",
       "tr            225925\n",
       "in            206212\n",
       "width         197032\n",
       "com           192779\n",
       "nbsp nbsp     163936\n",
       "you           159126\n",
       "br br         156754\n",
       "face          153450\n",
       "for           152577\n",
       "border        148637\n",
       "is            147840\n",
       "style         134521\n",
       "this          127919\n",
       "align         127774\n",
       "span          125907\n",
       "href          122468\n",
       "height        122384\n",
       "html          119934\n",
       "color         119523\n",
       "www           116191\n",
       "font size     111788\n",
       "td tr         108261\n",
       "http www      105357\n",
       "font face     104446\n",
       "that          103891\n",
       "on            101327\n",
       "td td          98916\n",
       "your           96299\n",
       "content        92507\n",
       "tr td          90633\n",
       "table          87217\n",
       "with           86005\n",
       "be             84848\n",
       "div            84766\n",
       "3d http        83221\n",
       "arial          80928\n",
       "it             79414\n",
       "style 3d       77299"
      ]
     },
     "execution_count": 61,
     "metadata": {},
     "output_type": "execute_result"
    }
   ],
   "source": [
    "sorted_p = p.sort_values(by=['frequency'], ascending=False)\n",
    "sorted_p[:50]"
   ]
  },
  {
   "cell_type": "markdown",
   "metadata": {},
   "source": [
    "It seems that the most frequent unigrams and bigrams appearing in our data are simply html tags, and parts of internet addresses.\n",
    "\n",
    "### 2.2.3\n",
    "Let's now divide our data by the the tags, and see which are the frequent unigrams and bigrams among the spam messages, and which are the frequent unigrams and bigrams among the ham messages."
   ]
  },
  {
   "cell_type": "code",
   "execution_count": 56,
   "metadata": {},
   "outputs": [],
   "source": [
    "vectorizer = CountVectorizer(ngram_range=(1, 2))\n",
    "sparse_matrix = vectorizer.fit_transform(data.text[data['class']== 'spam'])"
   ]
  },
  {
   "cell_type": "code",
   "execution_count": 57,
   "metadata": {},
   "outputs": [],
   "source": [
    "l = sum(sparse_matrix).data"
   ]
  },
  {
   "cell_type": "code",
   "execution_count": 61,
   "metadata": {},
   "outputs": [
    {
     "data": {
      "text/html": [
       "<div>\n",
       "<style scoped>\n",
       "    .dataframe tbody tr th:only-of-type {\n",
       "        vertical-align: middle;\n",
       "    }\n",
       "\n",
       "    .dataframe tbody tr th {\n",
       "        vertical-align: top;\n",
       "    }\n",
       "\n",
       "    .dataframe thead th {\n",
       "        text-align: right;\n",
       "    }\n",
       "</style>\n",
       "<table border=\"1\" class=\"dataframe\">\n",
       "  <thead>\n",
       "    <tr style=\"text-align: right;\">\n",
       "      <th></th>\n",
       "      <th>frequency</th>\n",
       "    </tr>\n",
       "  </thead>\n",
       "  <tbody>\n",
       "    <tr>\n",
       "      <th>http h2c4nv</th>\n",
       "      <td>560956</td>\n",
       "    </tr>\n",
       "    <tr>\n",
       "      <th>http gwardys</th>\n",
       "      <td>543929</td>\n",
       "    </tr>\n",
       "    <tr>\n",
       "      <th>http haberdashery</th>\n",
       "      <td>485533</td>\n",
       "    </tr>\n",
       "    <tr>\n",
       "      <th>http gzoujtdcfnibi</th>\n",
       "      <td>365696</td>\n",
       "    </tr>\n",
       "    <tr>\n",
       "      <th>http exultation</th>\n",
       "      <td>278903</td>\n",
       "    </tr>\n",
       "    <tr>\n",
       "      <th>http insofar</th>\n",
       "      <td>251806</td>\n",
       "    </tr>\n",
       "    <tr>\n",
       "      <th>http h0</th>\n",
       "      <td>213214</td>\n",
       "    </tr>\n",
       "    <tr>\n",
       "      <th>http gzonesite</th>\n",
       "      <td>202543</td>\n",
       "    </tr>\n",
       "    <tr>\n",
       "      <th>http inodamer</th>\n",
       "      <td>198919</td>\n",
       "    </tr>\n",
       "    <tr>\n",
       "      <th>http maglaras</th>\n",
       "      <td>193515</td>\n",
       "    </tr>\n",
       "    <tr>\n",
       "      <th>http im1</th>\n",
       "      <td>182079</td>\n",
       "    </tr>\n",
       "    <tr>\n",
       "      <th>http int</th>\n",
       "      <td>181346</td>\n",
       "    </tr>\n",
       "    <tr>\n",
       "      <th>http lenderto</th>\n",
       "      <td>161630</td>\n",
       "    </tr>\n",
       "    <tr>\n",
       "      <th>http gzf</th>\n",
       "      <td>161008</td>\n",
       "    </tr>\n",
       "    <tr>\n",
       "      <th>http inkcx</th>\n",
       "      <td>159965</td>\n",
       "    </tr>\n",
       "    <tr>\n",
       "      <th>http hitomier</th>\n",
       "      <td>155432</td>\n",
       "    </tr>\n",
       "    <tr>\n",
       "      <th>http h655nz5r4vnmhhz922hu4hzh</th>\n",
       "      <td>144363</td>\n",
       "    </tr>\n",
       "    <tr>\n",
       "      <th>http gxvdlnsfdqbcbs</th>\n",
       "      <td>133328</td>\n",
       "    </tr>\n",
       "    <tr>\n",
       "      <th>http gypster</th>\n",
       "      <td>131069</td>\n",
       "    </tr>\n",
       "    <tr>\n",
       "      <th>http macocha</th>\n",
       "      <td>124769</td>\n",
       "    </tr>\n",
       "    <tr>\n",
       "      <th>http haglund</th>\n",
       "      <td>123644</td>\n",
       "    </tr>\n",
       "    <tr>\n",
       "      <th>http jurrema</th>\n",
       "      <td>121658</td>\n",
       "    </tr>\n",
       "    <tr>\n",
       "      <th>http intricacy</th>\n",
       "      <td>115956</td>\n",
       "    </tr>\n",
       "    <tr>\n",
       "      <th>http gypsy</th>\n",
       "      <td>113473</td>\n",
       "    </tr>\n",
       "    <tr>\n",
       "      <th>http guzman</th>\n",
       "      <td>112620</td>\n",
       "    </tr>\n",
       "    <tr>\n",
       "      <th>http investmentoptions</th>\n",
       "      <td>108170</td>\n",
       "    </tr>\n",
       "    <tr>\n",
       "      <th>http feuerstein</th>\n",
       "      <td>107762</td>\n",
       "    </tr>\n",
       "    <tr>\n",
       "      <th>http hardy</th>\n",
       "      <td>105707</td>\n",
       "    </tr>\n",
       "    <tr>\n",
       "      <th>http hardestvideo</th>\n",
       "      <td>102023</td>\n",
       "    </tr>\n",
       "    <tr>\n",
       "      <th>http healthypolicy</th>\n",
       "      <td>97643</td>\n",
       "    </tr>\n",
       "    <tr>\n",
       "      <th>http hernandez</th>\n",
       "      <td>97097</td>\n",
       "    </tr>\n",
       "    <tr>\n",
       "      <th>http gw</th>\n",
       "      <td>89698</td>\n",
       "    </tr>\n",
       "    <tr>\n",
       "      <th>http ktbxurnjlpektbxurnjlpektbxurnjlpe</th>\n",
       "      <td>88622</td>\n",
       "    </tr>\n",
       "    <tr>\n",
       "      <th>http interstice</th>\n",
       "      <td>87753</td>\n",
       "    </tr>\n",
       "    <tr>\n",
       "      <th>http inventory</th>\n",
       "      <td>84490</td>\n",
       "    </tr>\n",
       "    <tr>\n",
       "      <th>http im</th>\n",
       "      <td>83411</td>\n",
       "    </tr>\n",
       "    <tr>\n",
       "      <th>http ltgjss5p9a</th>\n",
       "      <td>82954</td>\n",
       "    </tr>\n",
       "    <tr>\n",
       "      <th>http headstone</th>\n",
       "      <td>82752</td>\n",
       "    </tr>\n",
       "    <tr>\n",
       "      <th>http inquest</th>\n",
       "      <td>82016</td>\n",
       "    </tr>\n",
       "    <tr>\n",
       "      <th>http hjjmhn</th>\n",
       "      <td>77433</td>\n",
       "    </tr>\n",
       "    <tr>\n",
       "      <th>http hdmicw</th>\n",
       "      <td>76837</td>\n",
       "    </tr>\n",
       "    <tr>\n",
       "      <th>http insane</th>\n",
       "      <td>74686</td>\n",
       "    </tr>\n",
       "    <tr>\n",
       "      <th>http holsopple</th>\n",
       "      <td>74411</td>\n",
       "    </tr>\n",
       "    <tr>\n",
       "      <th>http h82167366414</th>\n",
       "      <td>73977</td>\n",
       "    </tr>\n",
       "    <tr>\n",
       "      <th>http gxqfy</th>\n",
       "      <td>73719</td>\n",
       "    </tr>\n",
       "    <tr>\n",
       "      <th>http hadjieva</th>\n",
       "      <td>70018</td>\n",
       "    </tr>\n",
       "    <tr>\n",
       "      <th>http hee</th>\n",
       "      <td>64005</td>\n",
       "    </tr>\n",
       "    <tr>\n",
       "      <th>http gwen</th>\n",
       "      <td>63758</td>\n",
       "    </tr>\n",
       "    <tr>\n",
       "      <th>http healy</th>\n",
       "      <td>61843</td>\n",
       "    </tr>\n",
       "    <tr>\n",
       "      <th>http hjhl</th>\n",
       "      <td>59828</td>\n",
       "    </tr>\n",
       "  </tbody>\n",
       "</table>\n",
       "</div>"
      ],
      "text/plain": [
       "                                        frequency\n",
       "http h2c4nv                                560956\n",
       "http gwardys                               543929\n",
       "http haberdashery                          485533\n",
       "http gzoujtdcfnibi                         365696\n",
       "http exultation                            278903\n",
       "http insofar                               251806\n",
       "http h0                                    213214\n",
       "http gzonesite                             202543\n",
       "http inodamer                              198919\n",
       "http maglaras                              193515\n",
       "http im1                                   182079\n",
       "http int                                   181346\n",
       "http lenderto                              161630\n",
       "http gzf                                   161008\n",
       "http inkcx                                 159965\n",
       "http hitomier                              155432\n",
       "http h655nz5r4vnmhhz922hu4hzh              144363\n",
       "http gxvdlnsfdqbcbs                        133328\n",
       "http gypster                               131069\n",
       "http macocha                               124769\n",
       "http haglund                               123644\n",
       "http jurrema                               121658\n",
       "http intricacy                             115956\n",
       "http gypsy                                 113473\n",
       "http guzman                                112620\n",
       "http investmentoptions                     108170\n",
       "http feuerstein                            107762\n",
       "http hardy                                 105707\n",
       "http hardestvideo                          102023\n",
       "http healthypolicy                          97643\n",
       "http hernandez                              97097\n",
       "http gw                                     89698\n",
       "http ktbxurnjlpektbxurnjlpektbxurnjlpe      88622\n",
       "http interstice                             87753\n",
       "http inventory                              84490\n",
       "http im                                     83411\n",
       "http ltgjss5p9a                             82954\n",
       "http headstone                              82752\n",
       "http inquest                                82016\n",
       "http hjjmhn                                 77433\n",
       "http hdmicw                                 76837\n",
       "http insane                                 74686\n",
       "http holsopple                              74411\n",
       "http h82167366414                           73977\n",
       "http gxqfy                                  73719\n",
       "http hadjieva                               70018\n",
       "http hee                                    64005\n",
       "http gwen                                   63758\n",
       "http healy                                  61843\n",
       "http hjhl                                   59828"
      ]
     },
     "execution_count": 61,
     "metadata": {},
     "output_type": "execute_result"
    }
   ],
   "source": [
    "p = pd.DataFrame(l, index=vectorizer.get_feature_names(), columns=['frequency'])\n",
    "sorted_p = p.sort_values(by=['frequency'], ascending=False)\n",
    "sorted_p[:50]"
   ]
  },
  {
   "cell_type": "markdown",
   "metadata": {},
   "source": [
    "The most common unigrams and bigrams among the spam messages are parts of internet address, probably links to websites which send a lot of smap messages. Let's see what are the most common unigrams and bigram among the ham messages."
   ]
  },
  {
   "cell_type": "code",
   "execution_count": 45,
   "metadata": {},
   "outputs": [],
   "source": [
    "vectorizer = CountVectorizer(ngram_range=(1, 2))\n",
    "sparse_matrix = vectorizer.fit_transform(data.text[data['class']== 'ham'])"
   ]
  },
  {
   "cell_type": "code",
   "execution_count": 46,
   "metadata": {},
   "outputs": [],
   "source": [
    "l = sum(sparse_matrix).data"
   ]
  },
  {
   "cell_type": "code",
   "execution_count": 47,
   "metadata": {},
   "outputs": [
    {
     "data": {
      "text/html": [
       "<div>\n",
       "<style scoped>\n",
       "    .dataframe tbody tr th:only-of-type {\n",
       "        vertical-align: middle;\n",
       "    }\n",
       "\n",
       "    .dataframe tbody tr th {\n",
       "        vertical-align: top;\n",
       "    }\n",
       "\n",
       "    .dataframe thead th {\n",
       "        text-align: right;\n",
       "    }\n",
       "</style>\n",
       "<table border=\"1\" class=\"dataframe\">\n",
       "  <thead>\n",
       "    <tr style=\"text-align: right;\">\n",
       "      <th></th>\n",
       "      <th>frequency</th>\n",
       "    </tr>\n",
       "  </thead>\n",
       "  <tbody>\n",
       "    <tr>\n",
       "      <th>invented them</th>\n",
       "      <td>271739</td>\n",
       "    </tr>\n",
       "    <tr>\n",
       "      <th>invariably there</th>\n",
       "      <td>185712</td>\n",
       "    </tr>\n",
       "    <tr>\n",
       "      <th>invalidation failed</th>\n",
       "      <td>123494</td>\n",
       "    </tr>\n",
       "    <tr>\n",
       "      <th>invaluable to</th>\n",
       "      <td>116399</td>\n",
       "    </tr>\n",
       "    <tr>\n",
       "      <th>invented all</th>\n",
       "      <td>90256</td>\n",
       "    </tr>\n",
       "    <tr>\n",
       "      <th>inventive of</th>\n",
       "      <td>71121</td>\n",
       "    </tr>\n",
       "    <tr>\n",
       "      <th>invalid_msgid does</th>\n",
       "      <td>70561</td>\n",
       "    </tr>\n",
       "    <tr>\n",
       "      <th>known meters</th>\n",
       "      <td>70004</td>\n",
       "    </tr>\n",
       "    <tr>\n",
       "      <th>invasion</th>\n",
       "      <td>60087</td>\n",
       "    </tr>\n",
       "    <tr>\n",
       "      <th>inv hd</th>\n",
       "      <td>59190</td>\n",
       "    </tr>\n",
       "    <tr>\n",
       "      <th>invest his</th>\n",
       "      <td>58170</td>\n",
       "    </tr>\n",
       "    <tr>\n",
       "      <th>invention than</th>\n",
       "      <td>55662</td>\n",
       "    </tr>\n",
       "    <tr>\n",
       "      <th>intuit</th>\n",
       "      <td>50956</td>\n",
       "    </tr>\n",
       "    <tr>\n",
       "      <th>hpln0418 xls</th>\n",
       "      <td>46347</td>\n",
       "    </tr>\n",
       "    <tr>\n",
       "      <th>invaluable more</th>\n",
       "      <td>43429</td>\n",
       "    </tr>\n",
       "    <tr>\n",
       "      <th>inv sub_news</th>\n",
       "      <td>41292</td>\n",
       "    </tr>\n",
       "    <tr>\n",
       "      <th>invention is</th>\n",
       "      <td>39740</td>\n",
       "    </tr>\n",
       "    <tr>\n",
       "      <th>invader is</th>\n",
       "      <td>38868</td>\n",
       "    </tr>\n",
       "    <tr>\n",
       "      <th>from core</th>\n",
       "      <td>38444</td>\n",
       "    </tr>\n",
       "    <tr>\n",
       "      <th>inventoried and</th>\n",
       "      <td>37356</td>\n",
       "    </tr>\n",
       "    <tr>\n",
       "      <th>invalid</th>\n",
       "      <td>36024</td>\n",
       "    </tr>\n",
       "    <tr>\n",
       "      <th>invalid_date_tz_absurd this</th>\n",
       "      <td>33884</td>\n",
       "    </tr>\n",
       "    <tr>\n",
       "      <th>inventor of</th>\n",
       "      <td>33265</td>\n",
       "    </tr>\n",
       "    <tr>\n",
       "      <th>invention are</th>\n",
       "      <td>33164</td>\n",
       "    </tr>\n",
       "    <tr>\n",
       "      <th>invest heavily</th>\n",
       "      <td>32780</td>\n",
       "    </tr>\n",
       "    <tr>\n",
       "      <th>invalidated</th>\n",
       "      <td>32712</td>\n",
       "    </tr>\n",
       "    <tr>\n",
       "      <th>investors seem</th>\n",
       "      <td>32597</td>\n",
       "    </tr>\n",
       "    <tr>\n",
       "      <th>intrusive and</th>\n",
       "      <td>31830</td>\n",
       "    </tr>\n",
       "    <tr>\n",
       "      <th>inventory 151mm</th>\n",
       "      <td>30946</td>\n",
       "    </tr>\n",
       "    <tr>\n",
       "      <th>interconnect let</th>\n",
       "      <td>29716</td>\n",
       "    </tr>\n",
       "    <tr>\n",
       "      <th>invention</th>\n",
       "      <td>29348</td>\n",
       "    </tr>\n",
       "    <tr>\n",
       "      <th>invaded the</th>\n",
       "      <td>29116</td>\n",
       "    </tr>\n",
       "    <tr>\n",
       "      <th>is screwing</th>\n",
       "      <td>27064</td>\n",
       "    </tr>\n",
       "    <tr>\n",
       "      <th>into volume</th>\n",
       "      <td>26553</td>\n",
       "    </tr>\n",
       "    <tr>\n",
       "      <th>inv estor</th>\n",
       "      <td>25012</td>\n",
       "    </tr>\n",
       "    <tr>\n",
       "      <th>japanes</th>\n",
       "      <td>23382</td>\n",
       "    </tr>\n",
       "    <tr>\n",
       "      <th>invent today</th>\n",
       "      <td>22790</td>\n",
       "    </tr>\n",
       "    <tr>\n",
       "      <th>invariably for</th>\n",
       "      <td>22224</td>\n",
       "    </tr>\n",
       "    <tr>\n",
       "      <th>invented market</th>\n",
       "      <td>21613</td>\n",
       "    </tr>\n",
       "    <tr>\n",
       "      <th>intrinsity and</th>\n",
       "      <td>21549</td>\n",
       "    </tr>\n",
       "    <tr>\n",
       "      <th>in notes</th>\n",
       "      <td>21065</td>\n",
       "    </tr>\n",
       "    <tr>\n",
       "      <th>in falling</th>\n",
       "      <td>20361</td>\n",
       "    </tr>\n",
       "    <tr>\n",
       "      <th>irrelevant these</th>\n",
       "      <td>19971</td>\n",
       "    </tr>\n",
       "    <tr>\n",
       "      <th>inherit these</th>\n",
       "      <td>19681</td>\n",
       "    </tr>\n",
       "    <tr>\n",
       "      <th>ining</th>\n",
       "      <td>19436</td>\n",
       "    </tr>\n",
       "    <tr>\n",
       "      <th>hpln0405 xls</th>\n",
       "      <td>19420</td>\n",
       "    </tr>\n",
       "    <tr>\n",
       "      <th>invariably</th>\n",
       "      <td>18535</td>\n",
       "    </tr>\n",
       "    <tr>\n",
       "      <th>investigation houston</th>\n",
       "      <td>18144</td>\n",
       "    </tr>\n",
       "    <tr>\n",
       "      <th>only necessary</th>\n",
       "      <td>18101</td>\n",
       "    </tr>\n",
       "    <tr>\n",
       "      <th>introductory meeting</th>\n",
       "      <td>17889</td>\n",
       "    </tr>\n",
       "  </tbody>\n",
       "</table>\n",
       "</div>"
      ],
      "text/plain": [
       "                             frequency\n",
       "invented them                   271739\n",
       "invariably there                185712\n",
       "invalidation failed             123494\n",
       "invaluable to                   116399\n",
       "invented all                     90256\n",
       "inventive of                     71121\n",
       "invalid_msgid does               70561\n",
       "known meters                     70004\n",
       "invasion                         60087\n",
       "inv hd                           59190\n",
       "invest his                       58170\n",
       "invention than                   55662\n",
       "intuit                           50956\n",
       "hpln0418 xls                     46347\n",
       "invaluable more                  43429\n",
       "inv sub_news                     41292\n",
       "invention is                     39740\n",
       "invader is                       38868\n",
       "from core                        38444\n",
       "inventoried and                  37356\n",
       "invalid                          36024\n",
       "invalid_date_tz_absurd this      33884\n",
       "inventor of                      33265\n",
       "invention are                    33164\n",
       "invest heavily                   32780\n",
       "invalidated                      32712\n",
       "investors seem                   32597\n",
       "intrusive and                    31830\n",
       "inventory 151mm                  30946\n",
       "interconnect let                 29716\n",
       "invention                        29348\n",
       "invaded the                      29116\n",
       "is screwing                      27064\n",
       "into volume                      26553\n",
       "inv estor                        25012\n",
       "japanes                          23382\n",
       "invent today                     22790\n",
       "invariably for                   22224\n",
       "invented market                  21613\n",
       "intrinsity and                   21549\n",
       "in notes                         21065\n",
       "in falling                       20361\n",
       "irrelevant these                 19971\n",
       "inherit these                    19681\n",
       "ining                            19436\n",
       "hpln0405 xls                     19420\n",
       "invariably                       18535\n",
       "investigation houston            18144\n",
       "only necessary                   18101\n",
       "introductory meeting             17889"
      ]
     },
     "execution_count": 47,
     "metadata": {},
     "output_type": "execute_result"
    }
   ],
   "source": [
    "p = pd.DataFrame(l, index=vectorizer.get_feature_names(), columns=['frequency'])\n",
    "sorted_p = p.sort_values(by=['frequency'], ascending=False)\n",
    "sorted_p[:50]"
   ]
  },
  {
   "cell_type": "markdown",
   "metadata": {},
   "source": [
    "Among the ham messages, the most common unigrams and bigrams are actual words that we would expect seeing in messages.\n",
    "\n",
    "### 2.2.4\n",
    "We'll now use sklearn's SelectFromModel to find the most useful features our classifier used to distinguish between spam and ham messages."
   ]
  },
  {
   "cell_type": "code",
   "execution_count": 67,
   "metadata": {},
   "outputs": [],
   "source": [
    "from sklearn.feature_selection import SelectFromModel\n",
    "from sklearn.feature_selection import SelectKBest"
   ]
  },
  {
   "cell_type": "markdown",
   "metadata": {},
   "source": [
    "Let's fit our vectorizer to the data, and transform our data to a matrix of features vectors."
   ]
  },
  {
   "cell_type": "code",
   "execution_count": 51,
   "metadata": {},
   "outputs": [],
   "source": [
    "vectorizer = CountVectorizer(ngram_range=(1, 2))\n",
    "d = ['this is a spam message', 'this is a good message', 'spam', 'very good and nice message',\n",
    "    'do not read, this is spam', 'good good very good', 'spam, beware', 'very interesting message',\n",
    "    'not recommended, probably spam', 'read it, it is good', 'pleasent and good','not good',\n",
    "    'not spam', 'you should not read it, it is not good', 'this message is not spam','buy now! this is spam',\n",
    "    'good morning, will we meet today?', 'viagra spam today', 'good day, where are you?',\n",
    "    'this is spam and you should not read it', 'and where will we meet exactly?']\n",
    "l = [1,0,1,0,1,0,1,0,1,0,0,1,0,1,0,1,0,1,0,1,0]\n",
    "x_train = vectorizer.fit_transform(data['text'])\n",
    "#x_train = vectorizer.fit_transform(d)"
   ]
  },
  {
   "cell_type": "markdown",
   "metadata": {},
   "source": [
    "Now let's fit our SelectFromModel to our data."
   ]
  },
  {
   "cell_type": "code",
   "execution_count": 102,
   "metadata": {},
   "outputs": [
    {
     "data": {
      "text/plain": [
       "MultinomialNB(alpha=1.0, class_prior=None, fit_prior=True)"
      ]
     },
     "execution_count": 102,
     "metadata": {},
     "output_type": "execute_result"
    }
   ],
   "source": [
    "y_train = [0 if c=='ham' else 1 for i,c in enumerate(data['class'])]\n",
    "clf = MultinomialNB()\n",
    "clf.fit(x_train, y_train)"
   ]
  },
  {
   "cell_type": "markdown",
   "metadata": {},
   "source": [
    "We need to sort our coefficents to find which are the most useful."
   ]
  },
  {
   "cell_type": "code",
   "execution_count": 104,
   "metadata": {},
   "outputs": [],
   "source": [
    "s = np.argsort(clf.coef_[0])"
   ]
  },
  {
   "cell_type": "markdown",
   "metadata": {},
   "source": [
    "Each feature in our model is a unigram or a bigram. We can get the those unigrams and bigrams from our vectorizer."
   ]
  },
  {
   "cell_type": "code",
   "execution_count": 92,
   "metadata": {
    "scrolled": true
   },
   "outputs": [],
   "source": [
    "names = vectorizer.get_feature_names()"
   ]
  },
  {
   "cell_type": "markdown",
   "metadata": {},
   "source": [
    "The top 20 features in our sorted array are the features most useful to determine that a message is a spam message. Let's print them."
   ]
  },
  {
   "cell_type": "code",
   "execution_count": 105,
   "metadata": {},
   "outputs": [
    {
     "name": "stdout",
     "output_type": "stream",
     "text": [
      "span\n",
      "style\n",
      "border\n",
      "face\n",
      "br br\n",
      "of\n",
      "width\n",
      "nbsp nbsp\n",
      "and\n",
      "http\n",
      "20\n",
      "to\n",
      "tr\n",
      "size\n",
      "the\n",
      "nbsp\n",
      "td\n",
      "br\n",
      "3d\n",
      "font\n"
     ]
    }
   ],
   "source": [
    "i=0\n",
    "for j in s[-20:]:\n",
    "    print(names[j])\n",
    "    i=i+1\n",
    "    if i==40:\n",
    "        print('why?')\n",
    "        break"
   ]
  },
  {
   "cell_type": "code",
   "execution_count": 98,
   "metadata": {},
   "outputs": [
    {
     "name": "stdout",
     "output_type": "stream",
     "text": [
      "illumine sheather\n",
      "derail deal\n",
      "printformat page\n",
      "printing 2x\n",
      "derail barbour\n",
      "derail amble\n",
      "derail afar\n",
      "printing as\n",
      "deracialize3eras7frettingcombatterdromotropic body\n",
      "deracialize3eras7frettingcombatterdromotropic\n",
      "deracialize eras3\n",
      "printformat\n",
      "deracialize\n",
      "printing br\n",
      "der übliche\n",
      "der überschuldung\n",
      "der übereinstimmung\n",
      "printing cd\n",
      "der zustellung\n",
      "der zussammen\n"
     ]
    }
   ],
   "source": [
    "i=0\n",
    "for j in s[:20]:\n",
    "    print(names[j])\n",
    "    i=i+1\n",
    "    if i==40:\n",
    "        print('why?')\n",
    "        break"
   ]
  },
  {
   "cell_type": "markdown",
   "metadata": {},
   "source": [
    "We can see that the list here shows us almost only html tags.\n",
    "\n",
    "### 2.2.5 "
   ]
  },
  {
   "cell_type": "code",
   "execution_count": 285,
   "metadata": {},
   "outputs": [],
   "source": [
    "from sklearn.pipeline import FeatureUnion\n",
    "from sklearn.base import TransformerMixin\n",
    "\n",
    "def build_pipeline3():\n",
    "    pipeline = Pipeline([\n",
    "        ('features',   FeatureUnion([\n",
    "            ('vectorizer',CountVectorizer(ngram_range=(1, 2))),\n",
    "            ('length', LengthTransformer())])),\n",
    "        ('classifier', MultinomialNB())]\n",
    "    )\n",
    "    return pipeline"
   ]
  },
  {
   "cell_type": "code",
   "execution_count": 283,
   "metadata": {},
   "outputs": [],
   "source": [
    "def train3(data = None, n_folds = 4):\n",
    "    if data is None:\n",
    "        print(\"Loading data...\")\n",
    "        data = load_data()\n",
    "        print(\"Data loaded\")\n",
    "    k_fold = KFold(n_splits = n_folds)\n",
    "    pipeline = build_pipeline3()\n",
    "    scores = []\n",
    "    confusion = numpy.array([[0, 0], [0, 0]])\n",
    "    print(\"Training with %d folds\" % n_folds)\n",
    "    for i, (train_indices, test_indices) in enumerate(k_fold.split(data)):\n",
    "        train_text = data.iloc[train_indices]['text'].values\n",
    "        train_y = data.iloc[train_indices]['class'].values.astype(str)\n",
    "        test_text = data.iloc[test_indices]['text'].values\n",
    "        test_y = data.iloc[test_indices]['class'].values.astype(str)\n",
    "        \n",
    "        print(\"Training for fold %d\" % i)\n",
    "        pipeline.fit(train_text, train_y)\n",
    "        print(\"Testing for fold %d\" % i)\n",
    "        predictions = pipeline.predict(test_text)\n",
    "        \n",
    "        confusion += confusion_matrix(test_y, predictions)\n",
    "        score = f1_score(test_y, predictions, pos_label=SPAM)\n",
    "        scores.append(score)\n",
    "        \n",
    "        print(\"Score for %d: %2.2f\" % (i, score))\n",
    "        print(\"Confusion matrix for %d: \" % i)\n",
    "        print(confusion)"
   ]
  },
  {
   "cell_type": "code",
   "execution_count": 284,
   "metadata": {},
   "outputs": [
    {
     "name": "stdout",
     "output_type": "stream",
     "text": [
      "Training with 4 folds\n",
      "Training for fold 0\n",
      "Testing for fold 0\n",
      "Score for 0: 0.65\n",
      "Confusion matrix for 0: \n",
      "[[10098  2232]\n",
      " [  178  2220]]\n",
      "Training for fold 1\n",
      "Testing for fold 1\n",
      "Score for 1: 0.96\n",
      "Confusion matrix for 1: \n",
      "[[21087  2452]\n",
      " [  268  5649]]\n",
      "Training for fold 2\n",
      "Testing for fold 2\n",
      "Score for 2: 0.98\n",
      "Confusion matrix for 2: \n",
      "[[21087  2452]\n",
      " [  802 19842]]\n",
      "Training for fold 3\n",
      "Testing for fold 3\n",
      "Score for 3: 0.97\n",
      "Confusion matrix for 3: \n",
      "[[21087  2452]\n",
      " [ 1734 33637]]\n"
     ]
    }
   ],
   "source": [
    "train3(data)"
   ]
  },
  {
   "cell_type": "markdown",
   "metadata": {},
   "source": [
    "### Part 3 - Named entity recognition\n"
   ]
  },
  {
   "cell_type": "markdown",
   "metadata": {},
   "source": [
    "We'll create a classifier for the task of named entity recognition. We'll use the data from CoNLL 2002, which is about NER in spanish and dutch.\n",
    "\n",
    "Let's load the dataset first."
   ]
  },
  {
   "cell_type": "code",
   "execution_count": 205,
   "metadata": {},
   "outputs": [],
   "source": [
    "from nltk.corpus import conll2002\n",
    "\n",
    "etr = list(conll2002.iob_sents('esp.train')) # In Spanish\n",
    "eta = list(conll2002.iob_sents('esp.testa')) # In Spanish\n",
    "etb = list(conll2002.iob_sents('esp.testb')) # In Spanish\n",
    "\n",
    "dtr = list(conll2002.iob_sents('ned.train')) # In Dutch\n",
    "dta = list(conll2002.iob_sents('ned.testa')) # In Dutch\n",
    "dtb = list(conll2002.iob_sents('ned.testb')) # In Dutch"
   ]
  },
  {
   "cell_type": "markdown",
   "metadata": {},
   "source": [
    "The data is provided as a list of sentences. Each sentence contains a list of tokens, where every token has as data it's word form, it's part of speech tag, and whether it's a beginning of a named entity (marked with B and the type of the named entity) or inside a named-entity (marked with I and the type of the named entity), or none of those (marked with O). The types of named entities are LOC for location, PER for person, ORG for organization, and MISC for other named entities.\n",
    "Let's look on a sentence from the training data."
   ]
  },
  {
   "cell_type": "code",
   "execution_count": 326,
   "metadata": {},
   "outputs": [
    {
     "data": {
      "text/plain": [
       "[('Melbourne', 'NP', 'B-LOC'),\n",
       " ('(', 'Fpa', 'O'),\n",
       " ('Australia', 'NP', 'B-LOC'),\n",
       " (')', 'Fpt', 'O'),\n",
       " (',', 'Fc', 'O'),\n",
       " ('25', 'Z', 'O'),\n",
       " ('may', 'NC', 'O'),\n",
       " ('(', 'Fpa', 'O'),\n",
       " ('EFE', 'NC', 'B-ORG'),\n",
       " (')', 'Fpt', 'O'),\n",
       " ('.', 'Fp', 'O')]"
      ]
     },
     "execution_count": 326,
     "metadata": {},
     "output_type": "execute_result"
    }
   ],
   "source": [
    "etr[0]"
   ]
  },
  {
   "cell_type": "markdown",
   "metadata": {},
   "source": [
    "It seems that most of the tags, at least in the first sentence, and probably in most other sentences too, are 'O'. That makes sense, since most words in the text aren't named entities. Let's see how the classes are distributed."
   ]
  },
  {
   "cell_type": "code",
   "execution_count": 680,
   "metadata": {},
   "outputs": [
    {
     "data": {
      "text/plain": [
       "<matplotlib.axes._subplots.AxesSubplot at 0x2021416e2e8>"
      ]
     },
     "execution_count": 680,
     "metadata": {},
     "output_type": "execute_result"
    },
    {
     "data": {
      "image/png": "[encoded data removed]",
      "text/plain": [
       "<Figure size 432x288 with 1 Axes>"
      ]
     },
     "metadata": {
      "needs_background": "light"
     },
     "output_type": "display_data"
    }
   ],
   "source": [
    "def get_dataframe(training, testa, testb):\n",
    "    counters = [Counter(),Counter(),Counter()]\n",
    "    datas = [('training', training), ('test a', testa), ('test b', testb)]\n",
    "    for counter,(data_name, data) in zip(counters,datas):\n",
    "        for sent in data:\n",
    "            for ind in range(len(sent)):\n",
    "                counter[sent[ind][2]]=counter[sent[ind][2]]+1\n",
    "    totals = [sum(counter.values()) for counter in counters]\n",
    "    return DataFrame([{'class':elem, 'count':counter[elem], 'data':data_name,\n",
    "                       'percent':counter[elem]/total} for elem in counter.keys() for counter,\n",
    "                       (data_name, data),total in zip(counters,datas,totals)])\n",
    "d = get_dataframe(etr, eta, etb)\n",
    "sns.barplot(x='class', y='count', hue='data', data=d)"
   ]
  },
  {
   "cell_type": "markdown",
   "metadata": {},
   "source": [
    "Since there is much more training data then test data, the test data isn't visible in this chart. Let's plot the relative precentage each class takes from it's data."
   ]
  },
  {
   "cell_type": "code",
   "execution_count": 681,
   "metadata": {},
   "outputs": [
    {
     "data": {
      "text/plain": [
       "<matplotlib.axes._subplots.AxesSubplot at 0x2021b9f0a58>"
      ]
     },
     "execution_count": 681,
     "metadata": {},
     "output_type": "execute_result"
    },
    {
     "data": {
      "image/png": "[encoded data removed]",
      "text/plain": [
       "<Figure size 432x288 with 1 Axes>"
      ]
     },
     "metadata": {
      "needs_background": "light"
     },
     "output_type": "display_data"
    }
   ],
   "source": [
    "sns.barplot(x='class', y='percent', hue='data', data=d)"
   ]
  },
  {
   "cell_type": "markdown",
   "metadata": {},
   "source": [
    "We can see that in both the training and the test data, the vast majority of the words (more than 80% in each dataset) are classed as O. That could cause us to overestimate our accuracy, since labeling all words as 'O' will get us a pretty good accuracy.\n",
    "Let's see the actual numbers of the distribution, and a bar plot of only the training data."
   ]
  },
  {
   "cell_type": "code",
   "execution_count": 682,
   "metadata": {},
   "outputs": [
    {
     "data": {
      "text/plain": [
       "<matplotlib.axes._subplots.AxesSubplot at 0x20228a74a90>"
      ]
     },
     "execution_count": 682,
     "metadata": {},
     "output_type": "execute_result"
    },
    {
     "data": {
      "image/png": "[encoded data removed]",
      "text/plain": [
       "<Figure size 432x288 with 1 Axes>"
      ]
     },
     "metadata": {
      "needs_background": "light"
     },
     "output_type": "display_data"
    }
   ],
   "source": [
    "sns.barplot(x='class', y='percent', data=d[d['data']=='training'])"
   ]
  },
  {
   "cell_type": "code",
   "execution_count": 683,
   "metadata": {},
   "outputs": [
    {
     "data": {
      "text/html": [
       "<div>\n",
       "<style scoped>\n",
       "    .dataframe tbody tr th:only-of-type {\n",
       "        vertical-align: middle;\n",
       "    }\n",
       "\n",
       "    .dataframe tbody tr th {\n",
       "        vertical-align: top;\n",
       "    }\n",
       "\n",
       "    .dataframe thead th {\n",
       "        text-align: right;\n",
       "    }\n",
       "</style>\n",
       "<table border=\"1\" class=\"dataframe\">\n",
       "  <thead>\n",
       "    <tr style=\"text-align: right;\">\n",
       "      <th></th>\n",
       "      <th>class</th>\n",
       "      <th>count</th>\n",
       "      <th>data</th>\n",
       "      <th>percent</th>\n",
       "    </tr>\n",
       "  </thead>\n",
       "  <tbody>\n",
       "    <tr>\n",
       "      <th>0</th>\n",
       "      <td>B-LOC</td>\n",
       "      <td>4913</td>\n",
       "      <td>training</td>\n",
       "      <td>0.018560</td>\n",
       "    </tr>\n",
       "    <tr>\n",
       "      <th>1</th>\n",
       "      <td>B-LOC</td>\n",
       "      <td>984</td>\n",
       "      <td>test a</td>\n",
       "      <td>0.018593</td>\n",
       "    </tr>\n",
       "    <tr>\n",
       "      <th>2</th>\n",
       "      <td>B-LOC</td>\n",
       "      <td>1084</td>\n",
       "      <td>test b</td>\n",
       "      <td>0.021035</td>\n",
       "    </tr>\n",
       "    <tr>\n",
       "      <th>3</th>\n",
       "      <td>I-LOC</td>\n",
       "      <td>1891</td>\n",
       "      <td>training</td>\n",
       "      <td>0.007144</td>\n",
       "    </tr>\n",
       "    <tr>\n",
       "      <th>4</th>\n",
       "      <td>I-LOC</td>\n",
       "      <td>337</td>\n",
       "      <td>test a</td>\n",
       "      <td>0.006368</td>\n",
       "    </tr>\n",
       "    <tr>\n",
       "      <th>5</th>\n",
       "      <td>I-LOC</td>\n",
       "      <td>325</td>\n",
       "      <td>test b</td>\n",
       "      <td>0.006307</td>\n",
       "    </tr>\n",
       "    <tr>\n",
       "      <th>6</th>\n",
       "      <td>O</td>\n",
       "      <td>231920</td>\n",
       "      <td>training</td>\n",
       "      <td>0.876112</td>\n",
       "    </tr>\n",
       "    <tr>\n",
       "      <th>7</th>\n",
       "      <td>O</td>\n",
       "      <td>45356</td>\n",
       "      <td>test a</td>\n",
       "      <td>0.857019</td>\n",
       "    </tr>\n",
       "    <tr>\n",
       "      <th>8</th>\n",
       "      <td>O</td>\n",
       "      <td>45355</td>\n",
       "      <td>test b</td>\n",
       "      <td>0.880116</td>\n",
       "    </tr>\n",
       "    <tr>\n",
       "      <th>9</th>\n",
       "      <td>B-ORG</td>\n",
       "      <td>7390</td>\n",
       "      <td>training</td>\n",
       "      <td>0.027917</td>\n",
       "    </tr>\n",
       "    <tr>\n",
       "      <th>10</th>\n",
       "      <td>B-ORG</td>\n",
       "      <td>1700</td>\n",
       "      <td>test a</td>\n",
       "      <td>0.032122</td>\n",
       "    </tr>\n",
       "    <tr>\n",
       "      <th>11</th>\n",
       "      <td>B-ORG</td>\n",
       "      <td>1400</td>\n",
       "      <td>test b</td>\n",
       "      <td>0.027167</td>\n",
       "    </tr>\n",
       "    <tr>\n",
       "      <th>12</th>\n",
       "      <td>B-MISC</td>\n",
       "      <td>2173</td>\n",
       "      <td>training</td>\n",
       "      <td>0.008209</td>\n",
       "    </tr>\n",
       "    <tr>\n",
       "      <th>13</th>\n",
       "      <td>B-MISC</td>\n",
       "      <td>445</td>\n",
       "      <td>test a</td>\n",
       "      <td>0.008408</td>\n",
       "    </tr>\n",
       "    <tr>\n",
       "      <th>14</th>\n",
       "      <td>B-MISC</td>\n",
       "      <td>339</td>\n",
       "      <td>test b</td>\n",
       "      <td>0.006578</td>\n",
       "    </tr>\n",
       "    <tr>\n",
       "      <th>15</th>\n",
       "      <td>B-PER</td>\n",
       "      <td>4321</td>\n",
       "      <td>training</td>\n",
       "      <td>0.016323</td>\n",
       "    </tr>\n",
       "    <tr>\n",
       "      <th>16</th>\n",
       "      <td>B-PER</td>\n",
       "      <td>1222</td>\n",
       "      <td>test a</td>\n",
       "      <td>0.023090</td>\n",
       "    </tr>\n",
       "    <tr>\n",
       "      <th>17</th>\n",
       "      <td>B-PER</td>\n",
       "      <td>735</td>\n",
       "      <td>test b</td>\n",
       "      <td>0.014263</td>\n",
       "    </tr>\n",
       "    <tr>\n",
       "      <th>18</th>\n",
       "      <td>I-PER</td>\n",
       "      <td>3903</td>\n",
       "      <td>training</td>\n",
       "      <td>0.014744</td>\n",
       "    </tr>\n",
       "    <tr>\n",
       "      <th>19</th>\n",
       "      <td>I-PER</td>\n",
       "      <td>859</td>\n",
       "      <td>test a</td>\n",
       "      <td>0.016231</td>\n",
       "    </tr>\n",
       "    <tr>\n",
       "      <th>20</th>\n",
       "      <td>I-PER</td>\n",
       "      <td>634</td>\n",
       "      <td>test b</td>\n",
       "      <td>0.012303</td>\n",
       "    </tr>\n",
       "    <tr>\n",
       "      <th>21</th>\n",
       "      <td>I-ORG</td>\n",
       "      <td>4992</td>\n",
       "      <td>training</td>\n",
       "      <td>0.018858</td>\n",
       "    </tr>\n",
       "    <tr>\n",
       "      <th>22</th>\n",
       "      <td>I-ORG</td>\n",
       "      <td>1366</td>\n",
       "      <td>test a</td>\n",
       "      <td>0.025811</td>\n",
       "    </tr>\n",
       "    <tr>\n",
       "      <th>23</th>\n",
       "      <td>I-ORG</td>\n",
       "      <td>1104</td>\n",
       "      <td>test b</td>\n",
       "      <td>0.021423</td>\n",
       "    </tr>\n",
       "    <tr>\n",
       "      <th>24</th>\n",
       "      <td>I-MISC</td>\n",
       "      <td>3212</td>\n",
       "      <td>training</td>\n",
       "      <td>0.012134</td>\n",
       "    </tr>\n",
       "    <tr>\n",
       "      <th>25</th>\n",
       "      <td>I-MISC</td>\n",
       "      <td>654</td>\n",
       "      <td>test a</td>\n",
       "      <td>0.012358</td>\n",
       "    </tr>\n",
       "    <tr>\n",
       "      <th>26</th>\n",
       "      <td>I-MISC</td>\n",
       "      <td>557</td>\n",
       "      <td>test b</td>\n",
       "      <td>0.010809</td>\n",
       "    </tr>\n",
       "  </tbody>\n",
       "</table>\n",
       "</div>"
      ],
      "text/plain": [
       "     class   count      data   percent\n",
       "0    B-LOC    4913  training  0.018560\n",
       "1    B-LOC     984    test a  0.018593\n",
       "2    B-LOC    1084    test b  0.021035\n",
       "3    I-LOC    1891  training  0.007144\n",
       "4    I-LOC     337    test a  0.006368\n",
       "5    I-LOC     325    test b  0.006307\n",
       "6        O  231920  training  0.876112\n",
       "7        O   45356    test a  0.857019\n",
       "8        O   45355    test b  0.880116\n",
       "9    B-ORG    7390  training  0.027917\n",
       "10   B-ORG    1700    test a  0.032122\n",
       "11   B-ORG    1400    test b  0.027167\n",
       "12  B-MISC    2173  training  0.008209\n",
       "13  B-MISC     445    test a  0.008408\n",
       "14  B-MISC     339    test b  0.006578\n",
       "15   B-PER    4321  training  0.016323\n",
       "16   B-PER    1222    test a  0.023090\n",
       "17   B-PER     735    test b  0.014263\n",
       "18   I-PER    3903  training  0.014744\n",
       "19   I-PER     859    test a  0.016231\n",
       "20   I-PER     634    test b  0.012303\n",
       "21   I-ORG    4992  training  0.018858\n",
       "22   I-ORG    1366    test a  0.025811\n",
       "23   I-ORG    1104    test b  0.021423\n",
       "24  I-MISC    3212  training  0.012134\n",
       "25  I-MISC     654    test a  0.012358\n",
       "26  I-MISC     557    test b  0.010809"
      ]
     },
     "execution_count": 683,
     "metadata": {},
     "output_type": "execute_result"
    }
   ],
   "source": [
    "d"
   ]
  },
  {
   "cell_type": "markdown",
   "metadata": {},
   "source": [
    "Let's see the same data for the dutch dataset:"
   ]
  },
  {
   "cell_type": "code",
   "execution_count": 685,
   "metadata": {},
   "outputs": [
    {
     "data": {
      "text/plain": [
       "<matplotlib.axes._subplots.AxesSubplot at 0x2021ceaecc0>"
      ]
     },
     "execution_count": 685,
     "metadata": {},
     "output_type": "execute_result"
    },
    {
     "data": {
      "image/png": "[encoded data removed]",
      "text/plain": [
       "<Figure size 432x288 with 1 Axes>"
      ]
     },
     "metadata": {
      "needs_background": "light"
     },
     "output_type": "display_data"
    }
   ],
   "source": [
    "d = get_dataframe(dtr, dta, dtb)\n",
    "sns.barplot(x='class', y='count', hue='data', data=d)"
   ]
  },
  {
   "cell_type": "code",
   "execution_count": 691,
   "metadata": {},
   "outputs": [
    {
     "data": {
      "text/plain": [
       "<matplotlib.axes._subplots.AxesSubplot at 0x202235615f8>"
      ]
     },
     "execution_count": 691,
     "metadata": {},
     "output_type": "execute_result"
    },
    {
     "data": {
      "image/png": "[encoded data removed]",
      "text/plain": [
       "<Figure size 432x288 with 1 Axes>"
      ]
     },
     "metadata": {
      "needs_background": "light"
     },
     "output_type": "display_data"
    }
   ],
   "source": [
    "sns.barplot(x='class', y='percent', hue='data', data=d)"
   ]
  },
  {
   "cell_type": "code",
   "execution_count": 687,
   "metadata": {},
   "outputs": [
    {
     "data": {
      "text/plain": [
       "<matplotlib.axes._subplots.AxesSubplot at 0x2021bb8b320>"
      ]
     },
     "execution_count": 687,
     "metadata": {},
     "output_type": "execute_result"
    },
    {
     "data": {
      "image/png": "[encoded data removed]",
      "text/plain": [
       "<Figure size 432x288 with 1 Axes>"
      ]
     },
     "metadata": {
      "needs_background": "light"
     },
     "output_type": "display_data"
    }
   ],
   "source": [
    "sns.barplot(x='class', y='percent', data=d[d['data']=='training'])"
   ]
  },
  {
   "cell_type": "code",
   "execution_count": 688,
   "metadata": {},
   "outputs": [
    {
     "data": {
      "text/html": [
       "<div>\n",
       "<style scoped>\n",
       "    .dataframe tbody tr th:only-of-type {\n",
       "        vertical-align: middle;\n",
       "    }\n",
       "\n",
       "    .dataframe tbody tr th {\n",
       "        vertical-align: top;\n",
       "    }\n",
       "\n",
       "    .dataframe thead th {\n",
       "        text-align: right;\n",
       "    }\n",
       "</style>\n",
       "<table border=\"1\" class=\"dataframe\">\n",
       "  <thead>\n",
       "    <tr style=\"text-align: right;\">\n",
       "      <th></th>\n",
       "      <th>class</th>\n",
       "      <th>count</th>\n",
       "      <th>data</th>\n",
       "      <th>percent</th>\n",
       "    </tr>\n",
       "  </thead>\n",
       "  <tbody>\n",
       "    <tr>\n",
       "      <th>0</th>\n",
       "      <td>O</td>\n",
       "      <td>183346</td>\n",
       "      <td>training</td>\n",
       "      <td>0.904769</td>\n",
       "    </tr>\n",
       "    <tr>\n",
       "      <th>1</th>\n",
       "      <td>O</td>\n",
       "      <td>33973</td>\n",
       "      <td>test a</td>\n",
       "      <td>0.901451</td>\n",
       "    </tr>\n",
       "    <tr>\n",
       "      <th>2</th>\n",
       "      <td>O</td>\n",
       "      <td>63117</td>\n",
       "      <td>test b</td>\n",
       "      <td>0.916399</td>\n",
       "    </tr>\n",
       "    <tr>\n",
       "      <th>3</th>\n",
       "      <td>B-LOC</td>\n",
       "      <td>3208</td>\n",
       "      <td>training</td>\n",
       "      <td>0.015831</td>\n",
       "    </tr>\n",
       "    <tr>\n",
       "      <th>4</th>\n",
       "      <td>B-LOC</td>\n",
       "      <td>479</td>\n",
       "      <td>test a</td>\n",
       "      <td>0.012710</td>\n",
       "    </tr>\n",
       "    <tr>\n",
       "      <th>5</th>\n",
       "      <td>B-LOC</td>\n",
       "      <td>774</td>\n",
       "      <td>test b</td>\n",
       "      <td>0.011238</td>\n",
       "    </tr>\n",
       "    <tr>\n",
       "      <th>6</th>\n",
       "      <td>B-PER</td>\n",
       "      <td>4716</td>\n",
       "      <td>training</td>\n",
       "      <td>0.023272</td>\n",
       "    </tr>\n",
       "    <tr>\n",
       "      <th>7</th>\n",
       "      <td>B-PER</td>\n",
       "      <td>703</td>\n",
       "      <td>test a</td>\n",
       "      <td>0.018654</td>\n",
       "    </tr>\n",
       "    <tr>\n",
       "      <th>8</th>\n",
       "      <td>B-PER</td>\n",
       "      <td>1098</td>\n",
       "      <td>test b</td>\n",
       "      <td>0.015942</td>\n",
       "    </tr>\n",
       "    <tr>\n",
       "      <th>9</th>\n",
       "      <td>I-PER</td>\n",
       "      <td>2883</td>\n",
       "      <td>training</td>\n",
       "      <td>0.014227</td>\n",
       "    </tr>\n",
       "    <tr>\n",
       "      <th>10</th>\n",
       "      <td>I-PER</td>\n",
       "      <td>423</td>\n",
       "      <td>test a</td>\n",
       "      <td>0.011224</td>\n",
       "    </tr>\n",
       "    <tr>\n",
       "      <th>11</th>\n",
       "      <td>I-PER</td>\n",
       "      <td>807</td>\n",
       "      <td>test b</td>\n",
       "      <td>0.011717</td>\n",
       "    </tr>\n",
       "    <tr>\n",
       "      <th>12</th>\n",
       "      <td>B-ORG</td>\n",
       "      <td>2082</td>\n",
       "      <td>training</td>\n",
       "      <td>0.010274</td>\n",
       "    </tr>\n",
       "    <tr>\n",
       "      <th>13</th>\n",
       "      <td>B-ORG</td>\n",
       "      <td>686</td>\n",
       "      <td>test a</td>\n",
       "      <td>0.018203</td>\n",
       "    </tr>\n",
       "    <tr>\n",
       "      <th>14</th>\n",
       "      <td>B-ORG</td>\n",
       "      <td>882</td>\n",
       "      <td>test b</td>\n",
       "      <td>0.012806</td>\n",
       "    </tr>\n",
       "    <tr>\n",
       "      <th>15</th>\n",
       "      <td>B-MISC</td>\n",
       "      <td>3338</td>\n",
       "      <td>training</td>\n",
       "      <td>0.016472</td>\n",
       "    </tr>\n",
       "    <tr>\n",
       "      <th>16</th>\n",
       "      <td>B-MISC</td>\n",
       "      <td>748</td>\n",
       "      <td>test a</td>\n",
       "      <td>0.019848</td>\n",
       "    </tr>\n",
       "    <tr>\n",
       "      <th>17</th>\n",
       "      <td>B-MISC</td>\n",
       "      <td>1187</td>\n",
       "      <td>test b</td>\n",
       "      <td>0.017234</td>\n",
       "    </tr>\n",
       "    <tr>\n",
       "      <th>18</th>\n",
       "      <td>I-ORG</td>\n",
       "      <td>1199</td>\n",
       "      <td>training</td>\n",
       "      <td>0.005917</td>\n",
       "    </tr>\n",
       "    <tr>\n",
       "      <th>19</th>\n",
       "      <td>I-ORG</td>\n",
       "      <td>396</td>\n",
       "      <td>test a</td>\n",
       "      <td>0.010508</td>\n",
       "    </tr>\n",
       "    <tr>\n",
       "      <th>20</th>\n",
       "      <td>I-ORG</td>\n",
       "      <td>551</td>\n",
       "      <td>test b</td>\n",
       "      <td>0.008000</td>\n",
       "    </tr>\n",
       "    <tr>\n",
       "      <th>21</th>\n",
       "      <td>I-MISC</td>\n",
       "      <td>1405</td>\n",
       "      <td>training</td>\n",
       "      <td>0.006933</td>\n",
       "    </tr>\n",
       "    <tr>\n",
       "      <th>22</th>\n",
       "      <td>I-MISC</td>\n",
       "      <td>215</td>\n",
       "      <td>test a</td>\n",
       "      <td>0.005705</td>\n",
       "    </tr>\n",
       "    <tr>\n",
       "      <th>23</th>\n",
       "      <td>I-MISC</td>\n",
       "      <td>410</td>\n",
       "      <td>test b</td>\n",
       "      <td>0.005953</td>\n",
       "    </tr>\n",
       "    <tr>\n",
       "      <th>24</th>\n",
       "      <td>I-LOC</td>\n",
       "      <td>467</td>\n",
       "      <td>training</td>\n",
       "      <td>0.002305</td>\n",
       "    </tr>\n",
       "    <tr>\n",
       "      <th>25</th>\n",
       "      <td>I-LOC</td>\n",
       "      <td>64</td>\n",
       "      <td>test a</td>\n",
       "      <td>0.001698</td>\n",
       "    </tr>\n",
       "    <tr>\n",
       "      <th>26</th>\n",
       "      <td>I-LOC</td>\n",
       "      <td>49</td>\n",
       "      <td>test b</td>\n",
       "      <td>0.000711</td>\n",
       "    </tr>\n",
       "  </tbody>\n",
       "</table>\n",
       "</div>"
      ],
      "text/plain": [
       "     class   count      data   percent\n",
       "0        O  183346  training  0.904769\n",
       "1        O   33973    test a  0.901451\n",
       "2        O   63117    test b  0.916399\n",
       "3    B-LOC    3208  training  0.015831\n",
       "4    B-LOC     479    test a  0.012710\n",
       "5    B-LOC     774    test b  0.011238\n",
       "6    B-PER    4716  training  0.023272\n",
       "7    B-PER     703    test a  0.018654\n",
       "8    B-PER    1098    test b  0.015942\n",
       "9    I-PER    2883  training  0.014227\n",
       "10   I-PER     423    test a  0.011224\n",
       "11   I-PER     807    test b  0.011717\n",
       "12   B-ORG    2082  training  0.010274\n",
       "13   B-ORG     686    test a  0.018203\n",
       "14   B-ORG     882    test b  0.012806\n",
       "15  B-MISC    3338  training  0.016472\n",
       "16  B-MISC     748    test a  0.019848\n",
       "17  B-MISC    1187    test b  0.017234\n",
       "18   I-ORG    1199  training  0.005917\n",
       "19   I-ORG     396    test a  0.010508\n",
       "20   I-ORG     551    test b  0.008000\n",
       "21  I-MISC    1405  training  0.006933\n",
       "22  I-MISC     215    test a  0.005705\n",
       "23  I-MISC     410    test b  0.005953\n",
       "24   I-LOC     467  training  0.002305\n",
       "25   I-LOC      64    test a  0.001698\n",
       "26   I-LOC      49    test b  0.000711"
      ]
     },
     "execution_count": 688,
     "metadata": {},
     "output_type": "execute_result"
    }
   ],
   "source": [
    "d"
   ]
  },
  {
   "cell_type": "markdown",
   "metadata": {},
   "source": [
    "So, as evident in the bar plot, in all datasets, the 'O' tag is found in more than 80% of the words, while the rest of the tags are less than 3% each."
   ]
  },
  {
   "cell_type": "markdown",
   "metadata": {},
   "source": [
    "We want to create a classifier for this task. First, we need to extract features from each word in our dataset.\n",
    "Let's begin with using only the word form as a feature. We'll use sklearn's DictVectorizer for our feature extraction."
   ]
  },
  {
   "cell_type": "code",
   "execution_count": 360,
   "metadata": {},
   "outputs": [],
   "source": [
    "from sklearn.feature_extraction import DictVectorizer"
   ]
  },
  {
   "cell_type": "markdown",
   "metadata": {},
   "source": [
    "We'll create a method for converting each word into a dictionary, and extracting the label from each word. We want this preprocessing done to the train and test data, so we'll create a method that would preprocess both datasets and return to us the dictionaries and the labels."
   ]
  },
  {
   "cell_type": "code",
   "execution_count": 652,
   "metadata": {},
   "outputs": [],
   "source": [
    "from itertools import product\n",
    "classes = [loc+'-'+ne_type for loc,ne_type in product(['B','I'],['LOC','PER','ORG','MISC'])]+['O']\n",
    "\n",
    "def extractFeatures(sent, i):\n",
    "    word, pos = sent[i][0], sent[i][1]\n",
    "    return {'word':word, 'pos': pos, 'prefix1':word[0],\n",
    "            'suffix1':word[-1],'prefix2':word[:2],'suffix2':word[-2:]}\n",
    "\n",
    "def getClass(sent, i):\n",
    "    return sent[i][2]\n",
    "\n",
    "def convertToDicts(data):\n",
    "    return sum([[extractFeatures(sent, i) for i in range(len(sent))] for sent in data],[])\n",
    "\n",
    "def getClasses(data):\n",
    "    return sum([[getClass(sent, i) for i in range(len(sent))] for sent in data],[])\n",
    "\n",
    "def preprocessData(data):\n",
    "    return converToDicts(data),getClasses(data)"
   ]
  },
  {
   "cell_type": "markdown",
   "metadata": {},
   "source": [
    "Now we'll create our pipeline. Our pipeline will first vectorize our data, then use classifier to classify the vectorized data."
   ]
  },
  {
   "cell_type": "code",
   "execution_count": 911,
   "metadata": {},
   "outputs": [],
   "source": [
    "from sklearn.linear_model import LogisticRegression\n",
    "\n",
    "def get_pipeline():\n",
    "    pipeline = Pipeline([\n",
    "        ('vectorizer', DictVectorizer(sparse=True)),\n",
    "        ('classifier', LogisticRegression())\n",
    "    ])\n",
    "    return pipeline"
   ]
  },
  {
   "cell_type": "code",
   "execution_count": 938,
   "metadata": {},
   "outputs": [],
   "source": [
    "x_e_train, y_e_train = preprocessData(etr)\n",
    "x_d_train, y_d_train = preprocessData(dtr)\n",
    "x_e_test, y_e_test = preprocessData(eta)\n",
    "x_d_test, y_d_test = preprocessData(dta)\n",
    "x_e_testb, y_e_testb = preprocessData(etb)\n",
    "x_d_testb, y_d_testb = preprocessData(dtb)"
   ]
  },
  {
   "cell_type": "code",
   "execution_count": 912,
   "metadata": {},
   "outputs": [],
   "source": [
    "pipeline = get_pipeline()"
   ]
  },
  {
   "cell_type": "code",
   "execution_count": 695,
   "metadata": {},
   "outputs": [
    {
     "data": {
      "text/plain": [
       "Pipeline(memory=None,\n",
       "     steps=[('vectorizer', DictVectorizer(dtype=<class 'numpy.float64'>, separator='=', sort=True,\n",
       "        sparse=True)), ('classifier', LogisticRegression(C=1.0, class_weight=None, dual=False, fit_intercept=True,\n",
       "          intercept_scaling=1, max_iter=100, multi_class='ovr', n_jobs=1,\n",
       "          penalty='l2', random_state=None, solver='liblinear', tol=0.0001,\n",
       "          verbose=0, warm_start=False))])"
      ]
     },
     "execution_count": 695,
     "metadata": {},
     "output_type": "execute_result"
    }
   ],
   "source": [
    "pipeline.fit(x_e_train,y_e_train)"
   ]
  },
  {
   "cell_type": "markdown",
   "metadata": {},
   "source": [
    "Before testing and evaluating our model, let's create a method that would give us statistics about our model. We want the accuracy, per label recall, percision, and f-score, and the confusion matrix. We'll also plot the normalized confusion matrix."
   ]
  },
  {
   "cell_type": "code",
   "execution_count": 696,
   "metadata": {},
   "outputs": [],
   "source": [
    "from sklearn import metrics\n",
    "\n",
    "def get_report(y_pred, y_true):\n",
    "    print('accuracy:{0}\\n'.format(sklearn.metrics.accuracy_score(y_pred, y_true)))\n",
    "    print(sklearn.metrics.classification_report(y_pred, y_true,labels=classes))\n",
    "    confusion_matrix = metrics.confusion_matrix(y_true,y_pred,labels=classes)\n",
    "    print('Confusion matrix:\\n')\n",
    "    print(confusion_matrix)\n",
    "    confusion_matrix = confusion_matrix.astype('float') / confusion_matrix.sum(axis=1)[:, np.newaxis]\n",
    "    confusion_df = DataFrame(confusion_matrix, index=classes, columns=classes)\n",
    "    fig1 = plt.figure('Confusion Matrix', [10,10])\n",
    "    fig1 = sns.heatmap(confusion_df,annot=True,annot_kws={\"size\": 12})"
   ]
  },
  {
   "cell_type": "markdown",
   "metadata": {},
   "source": [
    "Let's now test our model on the test dataset, we'll make the predictions on the test dataset."
   ]
  },
  {
   "cell_type": "code",
   "execution_count": 697,
   "metadata": {},
   "outputs": [],
   "source": [
    "predictions = pipeline.predict(x_e_test)"
   ]
  },
  {
   "cell_type": "markdown",
   "metadata": {},
   "source": [
    "Let's see the report and observe how well did our model perform."
   ]
  },
  {
   "cell_type": "code",
   "execution_count": 698,
   "metadata": {},
   "outputs": [
    {
     "name": "stdout",
     "output_type": "stream",
     "text": [
      "accuracy:0.9276684995181679\n",
      "\n",
      "             precision    recall  f1-score   support\n",
      "\n",
      "      B-LOC       0.79      0.54      0.64      1443\n",
      "      B-PER       0.61      0.65      0.63      1151\n",
      "      B-ORG       0.70      0.74      0.72      1607\n",
      "     B-MISC       0.39      0.53      0.45       327\n",
      "      I-LOC       0.35      0.66      0.46       180\n",
      "      I-PER       0.55      0.49      0.52       972\n",
      "      I-ORG       0.25      0.51      0.34       677\n",
      "     I-MISC       0.15      0.49      0.23       196\n",
      "          O       1.00      0.97      0.99     46370\n",
      "\n",
      "avg / total       0.95      0.93      0.94     52923\n",
      "\n",
      "Confusion matrix:\n",
      "\n",
      "[[  777    31    71     8     4    19    29     2    43]\n",
      " [  106   745    50     5    13   231    29     7    36]\n",
      " [  202    66  1192    33     2    61    54     5    85]\n",
      " [   23    11    49   173     1    17    35    17   119]\n",
      " [   23    33     8     3   119    28    39     4    80]\n",
      " [   89   146    17     5    11   473    40     7    71]\n",
      " [  161    65   125    44    17   103   343    42   466]\n",
      " [   55    24    28    36    12    33    77    96   293]\n",
      " [    7    30    67    20     1     7    31    16 45177]]\n"
     ]
    },
    {
     "data": {
      "image/png": "[encoded data removed]",
      "text/plain": [
       "<Figure size 720x720 with 2 Axes>"
      ]
     },
     "metadata": {
      "needs_background": "light"
     },
     "output_type": "display_data"
    }
   ],
   "source": [
    "get_report(predictions,y_e_test)"
   ]
  },
  {
   "cell_type": "code",
   "execution_count": 701,
   "metadata": {},
   "outputs": [],
   "source": [
    "pipeline.fit(x_d_train,y_d_train)\n",
    "predictions = pipeline.predict(x_d_test)"
   ]
  },
  {
   "cell_type": "code",
   "execution_count": 702,
   "metadata": {},
   "outputs": [
    {
     "name": "stdout",
     "output_type": "stream",
     "text": [
      "accuracy:0.9484702947966143\n",
      "\n",
      "             precision    recall  f1-score   support\n",
      "\n",
      "      B-LOC       0.59      0.63      0.61       448\n",
      "      B-PER       0.71      0.50      0.59       990\n",
      "      B-ORG       0.42      0.69      0.52       417\n",
      "     B-MISC       0.57      0.77      0.66       556\n",
      "      I-LOC       0.17      0.85      0.29        13\n",
      "      I-PER       0.43      0.37      0.40       499\n",
      "      I-ORG       0.32      0.72      0.44       176\n",
      "     I-MISC       0.16      0.47      0.24        74\n",
      "          O       1.00      0.98      0.99     34514\n",
      "\n",
      "avg / total       0.96      0.95      0.95     37687\n",
      "\n",
      "Confusion matrix:\n",
      "\n",
      "[[  281    90    17     5     1    48     0     0    37]\n",
      " [   26   497    21     9     0   108     3     3    36]\n",
      " [   31    79   289    40     0    43    29    14   161]\n",
      " [   37    51    32   430     0    47     2     8   141]\n",
      " [    9    25     1     0    11     8     0     0    10]\n",
      " [   25   152     6    13     0   184     0     0    43]\n",
      " [   23    53    34    27     1    23   126     7   102]\n",
      " [   12    24     8    14     0    18    12    35    92]\n",
      " [    4    19     9    18     0    20     4     7 33892]]\n"
     ]
    },
    {
     "data": {
      "image/png": "[encoded data removed]",
      "text/plain": [
       "<Figure size 720x720 with 2 Axes>"
      ]
     },
     "metadata": {
      "needs_background": "light"
     },
     "output_type": "display_data"
    }
   ],
   "source": [
    "get_report(predictions,y_d_test)"
   ]
  },
  {
   "cell_type": "code",
   "execution_count": 925,
   "metadata": {},
   "outputs": [],
   "source": [
    "def extractFeatures(sent, i):\n",
    "    word, pos = sent[i][0], sent[i][1]\n",
    "    return {'word':word, 'pos': pos, 'prefix1':word[0],\n",
    "            'suffix1':word[-1],'prefix2':word[:2],'suffix2':word[-2:],\n",
    "            'next_pos':'EOS' if i==len(sent)-1 else sent[i+1][1],\n",
    "            'prev_pos':'BOS' if i==0 else sent[i-1][1],\n",
    "            'next':'EOS' if i==len(sent)-1 else sent[i+1][0],\n",
    "            'prev':'BOS' if i==0 else sent[i-1][0]}\n",
    "\n",
    "def convertToDicts(data):\n",
    "    return sum([[extractFeatures(sent, i) for i in range(len(sent))] for sent in data],[])"
   ]
  },
  {
   "cell_type": "code",
   "execution_count": 941,
   "metadata": {},
   "outputs": [],
   "source": [
    "x_e_train = convertToDicts(etr)\n",
    "x_e_test = convertToDicts(eta)\n",
    "x_e_testb = convertToDicts(etb)\n",
    "x_d_train = convertToDicts(dtr)\n",
    "x_d_test = convertToDicts(dta)\n",
    "x_d_testb = convertToDicts(dtb)"
   ]
  },
  {
   "cell_type": "code",
   "execution_count": 913,
   "metadata": {},
   "outputs": [
    {
     "name": "stdout",
     "output_type": "stream",
     "text": [
      "accuracy:0.9174272055627988\n",
      "\n",
      "             precision    recall  f1-score   support\n",
      "\n",
      "      B-LOC       0.75      0.49      0.59      1518\n",
      "      B-PER       0.77      0.47      0.58      2017\n",
      "      B-ORG       0.73      0.61      0.67      2022\n",
      "     B-MISC       0.41      0.51      0.45       358\n",
      "      I-LOC       0.12      0.87      0.21        47\n",
      "      I-PER       0.09      0.56      0.15       133\n",
      "      I-ORG       0.08      0.73      0.14       146\n",
      "     I-MISC       0.09      0.48      0.15       117\n",
      "          O       1.00      0.97      0.98     46565\n",
      "\n",
      "avg / total       0.96      0.92      0.93     52923\n",
      "\n",
      "Confusion matrix:\n",
      "\n",
      "[[  738    63   110     4     0     2     8     2    57]\n",
      " [  115   942    75     3     0    23     0     1    63]\n",
      " [  191   113  1239    33     0    16     7     4    97]\n",
      " [   28    31    55   182     0     0     2    10   137]\n",
      " [   50    97    48     3    41     2    11     2    83]\n",
      " [  137   473    60    10     0    74     2     1   102]\n",
      " [  195   182   239    63     4    13   106    34   530]\n",
      " [   57    82    85    42     2     2     7    56   321]\n",
      " [    7    34   111    18     0     1     3     7 45175]]\n"
     ]
    },
    {
     "data": {
      "image/png": "[encoded data removed]",
      "text/plain": [
       "<Figure size 720x720 with 2 Axes>"
      ]
     },
     "metadata": {
      "needs_background": "light"
     },
     "output_type": "display_data"
    }
   ],
   "source": [
    "pipeline.fit(x_e_train,y_e_train)\n",
    "predictions = pipeline.predict(x_e_test)\n",
    "get_report(predictions,y_e_test)"
   ]
  },
  {
   "cell_type": "code",
   "execution_count": 914,
   "metadata": {},
   "outputs": [
    {
     "name": "stdout",
     "output_type": "stream",
     "text": [
      "accuracy:0.944516676838167\n",
      "\n",
      "             precision    recall  f1-score   support\n",
      "\n",
      "      B-LOC       0.59      0.52      0.55       537\n",
      "      B-PER       0.77      0.44      0.56      1227\n",
      "      B-ORG       0.43      0.68      0.53       435\n",
      "     B-MISC       0.73      0.48      0.58      1136\n",
      "      I-LOC       0.02      0.50      0.03         2\n",
      "      I-PER       0.02      0.45      0.04        22\n",
      "      I-ORG       0.25      0.86      0.38       114\n",
      "     I-MISC       0.15      0.84      0.25        38\n",
      "          O       0.99      0.99      0.99     34176\n",
      "\n",
      "avg / total       0.96      0.94      0.95     37687\n",
      "\n",
      "Confusion matrix:\n",
      "\n",
      "[[  281   121    15    48     0     1     0     1    12]\n",
      " [   42   543    13    80     0     9     0     0    16]\n",
      " [   55    90   296   142     0     0     2     1   100]\n",
      " [   47    63    24   545     0     2     0     1    66]\n",
      " [   12    32     1    10     1     0     0     0     8]\n",
      " [   29   260    10    83     0    10     0     0    31]\n",
      " [   30    65    48    74     1     0    98     3    77]\n",
      " [   17    26     7    47     0     0    10    32    76]\n",
      " [   24    27    21   107     0     0     4     0 33790]]\n"
     ]
    },
    {
     "data": {
      "image/png": "[encoded data removed]",
      "text/plain": [
       "<Figure size 720x720 with 2 Axes>"
      ]
     },
     "metadata": {
      "needs_background": "light"
     },
     "output_type": "display_data"
    }
   ],
   "source": [
    "pipeline.fit(x_d_train,y_d_train)\n",
    "predictions = pipeline.predict(x_d_test)\n",
    "get_report(predictions,y_d_test)"
   ]
  },
  {
   "cell_type": "code",
   "execution_count": 795,
   "metadata": {},
   "outputs": [],
   "source": [
    "i_labels = [label for label in classes if label[0]=='I']\n",
    "b_labels = [label for label in classes if label[0]=='B']\n",
    "o_label = ['O']\n",
    "\n",
    "def legal_seq(last, curr):\n",
    "    if last in o_label and curr in i_labels:\n",
    "        return False\n",
    "    if last in i_labels and curr in i_labels and i_labels.index(last)!=i_labels.index(curr):\n",
    "        return False\n",
    "    if last in b_labels and curr in i_labels and b_labels.index(last)!=i_labels.index(curr):\n",
    "        return False    \n",
    "    return True\n",
    "\n",
    "def find_illegal(data, pipeline):\n",
    "    l = []\n",
    "    for sent in data:\n",
    "        last_d = extractFeatures(sent, 0)\n",
    "        last = pipeline.predict(last_d)[0]\n",
    "        for ind in range(1,len(sent)):\n",
    "            d = extractFeatures(sent, ind)\n",
    "            curr = pipeline.predict(d)[0]\n",
    "            if not legal_seq(last, curr):\n",
    "                l.append(((last,last_d['word']), (curr,d['word'])))\n",
    "            last = curr\n",
    "            last_d = d\n",
    "    return l"
   ]
  },
  {
   "cell_type": "code",
   "execution_count": 798,
   "metadata": {},
   "outputs": [
    {
     "data": {
      "text/plain": [
       "188"
      ]
     },
     "execution_count": 798,
     "metadata": {},
     "output_type": "execute_result"
    }
   ],
   "source": [
    "len(find_illegal(etr, pipeline))"
   ]
  },
  {
   "cell_type": "code",
   "execution_count": 802,
   "metadata": {},
   "outputs": [],
   "source": [
    "import warnings\n",
    "warnings.filterwarnings(action='ignore', category=UserWarning, module='gensim')\n",
    "from gensim.models import Word2Vec\n",
    "from gensim.test.utils import datapath\n",
    "from gensim.models import KeyedVectors"
   ]
  },
  {
   "cell_type": "code",
   "execution_count": 806,
   "metadata": {},
   "outputs": [],
   "source": [
    "wv_from_text = KeyedVectors.load_word2vec_format('data/wiki.nl.vec', binary=False)  # C text format"
   ]
  },
  {
   "cell_type": "code",
   "execution_count": 918,
   "metadata": {},
   "outputs": [],
   "source": [
    "class EmbedTransformer(TransformerMixin):\n",
    "\n",
    "    def __init__(self, w2vec,kword='word'):\n",
    "        self.w2vec = w2vec\n",
    "        self.vec_len = len(w2vec['de'])\n",
    "        self.zero_vec = np.zeros(self.vec_len, dtype='float32')\n",
    "        self.kword = kword\n",
    "    \n",
    "    def transform(self, X, **transform_params):\n",
    "        return np.array([self.zero_vec if x[self.kword] not in self.w2vec else self.w2vec[x[self.kword].lower()] for x in X], dtype='float32')\n",
    "\n",
    "    def fit(self, X, y=None, **fit_params):\n",
    "        return self\n",
    "    \n",
    "def get_pipeline2():\n",
    "    pipeline = Pipeline([\n",
    "        ('features', FeatureUnion([\n",
    "            ('vectorizer', DictVectorizer(sparse=True)),\n",
    "            ('embedding_word', EmbedTransformer(wv_from_text)),\n",
    "            ('embedding_next', EmbedTransformer(wv_from_text,kword='next')),\n",
    "            ('embedding_prev', EmbedTransformer(wv_from_text,kword='prev'))\n",
    "        ])),\n",
    "        ('classifier', LogisticRegression())\n",
    "    ])\n",
    "    return pipeline"
   ]
  },
  {
   "cell_type": "code",
   "execution_count": 919,
   "metadata": {},
   "outputs": [],
   "source": [
    "pipeline = get_pipeline2()"
   ]
  },
  {
   "cell_type": "code",
   "execution_count": 920,
   "metadata": {},
   "outputs": [
    {
     "data": {
      "text/plain": [
       "Pipeline(memory=None,\n",
       "     steps=[('features', FeatureUnion(n_jobs=1,\n",
       "       transformer_list=[('vectorizer', DictVectorizer(dtype=<class 'numpy.float64'>, separator='=', sort=True,\n",
       "        sparse=True)), ('embedding_word', <__main__.EmbedTransformer object at 0x000002029A7EDF28>), ('embedding_next', <__main__.EmbedTransforme...ty='l2', random_state=None, solver='liblinear', tol=0.0001,\n",
       "          verbose=0, warm_start=False))])"
      ]
     },
     "execution_count": 920,
     "metadata": {},
     "output_type": "execute_result"
    }
   ],
   "source": [
    "pipeline.fit(x_d_train,y_d_train)"
   ]
  },
  {
   "cell_type": "code",
   "execution_count": 927,
   "metadata": {},
   "outputs": [
    {
     "name": "stdout",
     "output_type": "stream",
     "text": [
      "accuracy:0.9664871175736992\n",
      "\n",
      "             precision    recall  f1-score   support\n",
      "\n",
      "      B-LOC       0.75      0.70      0.72       512\n",
      "      B-PER       0.80      0.68      0.74       826\n",
      "      B-ORG       0.57      0.82      0.67       471\n",
      "     B-MISC       0.69      0.78      0.73       662\n",
      "      I-LOC       0.22      0.47      0.30        30\n",
      "      I-PER       0.91      0.66      0.77       579\n",
      "      I-ORG       0.50      0.80      0.62       247\n",
      "     I-MISC       0.44      0.61      0.51       155\n",
      "          O       1.00      0.99      0.99     34205\n",
      "\n",
      "avg / total       0.97      0.97      0.97     37687\n",
      "\n",
      "Confusion matrix:\n",
      "\n",
      "[[  358    51    20    16     3     3     3     1    24]\n",
      " [   21   565    13    19     0    33     7     6    39]\n",
      " [   59   100   388    71     0    10     7     4    47]\n",
      " [   50    64    30   515     2     8     5     5    69]\n",
      " [    3     2     0     1    14    27     6     5     6]\n",
      " [    3     8     1     8     2   384     3     5     9]\n",
      " [    8     7    11     9     6    78   198    24    55]\n",
      " [    9     4     3     9     3    31    14    94    48]\n",
      " [    1    25     5    14     0     5     4    11 33908]]\n"
     ]
    },
    {
     "data": {
      "image/png": "[encoded data removed]",
      "text/plain": [
       "<Figure size 720x720 with 2 Axes>"
      ]
     },
     "metadata": {
      "needs_background": "light"
     },
     "output_type": "display_data"
    }
   ],
   "source": [
    "predictions = pipeline.predict(x_d_test)\n",
    "get_report(predictions,y_d_test)"
   ]
  },
  {
   "cell_type": "code",
   "execution_count": 937,
   "metadata": {},
   "outputs": [
    {
     "data": {
      "text/plain": [
       "0.045586011091357764"
      ]
     },
     "execution_count": 937,
     "metadata": {},
     "output_type": "execute_result"
    }
   ],
   "source": [
    "total = len(x_d_test)\n",
    "len([w for w in x_d_test if w['word'].lower() not in wv_from_text])/total"
   ]
  },
  {
   "cell_type": "code",
   "execution_count": 942,
   "metadata": {},
   "outputs": [
    {
     "name": "stdout",
     "output_type": "stream",
     "text": [
      "accuracy:0.9739382940108893\n",
      "\n",
      "             precision    recall  f1-score   support\n",
      "\n",
      "      B-LOC       0.76      0.78      0.77       763\n",
      "      B-PER       0.83      0.73      0.78      1263\n",
      "      B-ORG       0.61      0.78      0.68       694\n",
      "     B-MISC       0.69      0.79      0.74      1038\n",
      "      I-LOC       0.37      0.58      0.45        31\n",
      "      I-PER       0.91      0.74      0.82       999\n",
      "      I-ORG       0.53      0.77      0.63       376\n",
      "     I-MISC       0.34      0.62      0.44       224\n",
      "          O       1.00      0.99      1.00     63487\n",
      "\n",
      "avg / total       0.98      0.97      0.98     68875\n",
      "\n",
      "Confusion matrix:\n",
      "\n",
      "[[  592    78    27    24     3     9     0     3    38]\n",
      " [   28   916    21    18     2    34    12    17    50]\n",
      " [   49   117   538   110     0    11     6     4    47]\n",
      " [   52    95    88   821     2    10     6     2   111]\n",
      " [    2     0     0     1    18    15     5     5     3]\n",
      " [    6     5     6     7     3   737    18     8    17]\n",
      " [   10    11    12    18     1   104   290    28    77]\n",
      " [   20     5     1    15     2    79    36   138   114]\n",
      " [    4    36     1    24     0     0     3    19 63030]]\n"
     ]
    },
    {
     "data": {
      "image/png": "[encoded data removed]",
      "text/plain": [
       "<Figure size 720x720 with 2 Axes>"
      ]
     },
     "metadata": {
      "needs_background": "light"
     },
     "output_type": "display_data"
    }
   ],
   "source": [
    "predictions = pipeline.predict(x_d_testb)\n",
    "get_report(predictions,y_d_testb)"
   ]
  },
  {
   "cell_type": "code",
   "execution_count": null,
   "metadata": {},
   "outputs": [],
   "source": []
  }
 ],
 "metadata": {
  "kernelspec": {
   "display_name": "Python 3",
   "language": "python",
   "name": "python3"
  },
  "language_info": {
   "codemirror_mode": {
    "name": "ipython",
    "version": 3
   },
   "file_extension": ".py",
   "mimetype": "text/x-python",
   "name": "python",
   "nbconvert_exporter": "python",
   "pygments_lexer": "ipython3",
   "version": "3.7.0"
  }
 },
 "nbformat": 4,
 "nbformat_minor": 2
}
